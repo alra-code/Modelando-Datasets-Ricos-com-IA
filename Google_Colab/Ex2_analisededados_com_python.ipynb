{
  "nbformat": 4,
  "nbformat_minor": 0,
  "metadata": {
    "colab": {
      "provenance": [],
      "authorship_tag": "ABX9TyPXXZaIpny9TWdw5Uo+5FFv",
      "include_colab_link": true
    },
    "kernelspec": {
      "name": "python3",
      "display_name": "Python 3"
    },
    "language_info": {
      "name": "python"
    }
  },
  "cells": [
    {
      "cell_type": "markdown",
      "metadata": {
        "id": "view-in-github",
        "colab_type": "text"
      },
      "source": [
        "<a href=\"https://colab.research.google.com/github/alra-code/Modelando-Datasets-Ricos-com-IA/blob/main/Ex2_analisededados_com_python.ipynb\" target=\"_parent\"><img src=\"https://colab.research.google.com/assets/colab-badge.svg\" alt=\"Open In Colab\"/></a>"
      ]
    },
    {
      "cell_type": "code",
      "execution_count": 1,
      "metadata": {
        "id": "87awz87DVeG4"
      },
      "outputs": [],
      "source": [
        "import pandas as pd\n",
        "import numpy as np\n",
        "import matplotlib.pyplot as plt\n",
        "import os as os\n",
        "from google.colab import files\n",
        "from sklearn.ensemble import IsolationForest\n",
        ""
      ]
    },
    {
      "cell_type": "code",
      "source": [
        "# Carregar o dataset Titanic\n",
        "url = \"https://raw.githubusercontent.com/datasciencedojo/datasets/master/titanic.csv\"\n",
        "df = pd.read_csv(url)"
      ],
      "metadata": {
        "id": "HHABRq3xVzUo"
      },
      "execution_count": 2,
      "outputs": []
    },
    {
      "cell_type": "code",
      "source": [
        "# Visualizar os nomes das colunas\n",
        "print(\"Nomes das colunas:\")\n",
        "print(df.columns)"
      ],
      "metadata": {
        "colab": {
          "base_uri": "https://localhost:8080/"
        },
        "id": "qyNeN4uYV7Qn",
        "outputId": "93dea1c0-646c-463f-8162-f8ba030ddfc6"
      },
      "execution_count": 3,
      "outputs": [
        {
          "output_type": "stream",
          "name": "stdout",
          "text": [
            "Nomes das colunas:\n",
            "Index(['PassengerId', 'Survived', 'Pclass', 'Name', 'Sex', 'Age', 'SibSp',\n",
            "       'Parch', 'Ticket', 'Fare', 'Cabin', 'Embarked'],\n",
            "      dtype='object')\n"
          ]
        }
      ]
    },
    {
      "cell_type": "code",
      "source": [
        "# Resumo das colunas\n",
        "print(\"\\nResumo das colunas:\")\n",
        "print(df.info())"
      ],
      "metadata": {
        "colab": {
          "base_uri": "https://localhost:8080/"
        },
        "id": "HqMb6gSCWBFF",
        "outputId": "41c33cde-de3a-43d9-ec70-2239b8f0cf77"
      },
      "execution_count": 4,
      "outputs": [
        {
          "output_type": "stream",
          "name": "stdout",
          "text": [
            "\n",
            "Resumo das colunas:\n",
            "<class 'pandas.core.frame.DataFrame'>\n",
            "RangeIndex: 891 entries, 0 to 890\n",
            "Data columns (total 12 columns):\n",
            " #   Column       Non-Null Count  Dtype  \n",
            "---  ------       --------------  -----  \n",
            " 0   PassengerId  891 non-null    int64  \n",
            " 1   Survived     891 non-null    int64  \n",
            " 2   Pclass       891 non-null    int64  \n",
            " 3   Name         891 non-null    object \n",
            " 4   Sex          891 non-null    object \n",
            " 5   Age          714 non-null    float64\n",
            " 6   SibSp        891 non-null    int64  \n",
            " 7   Parch        891 non-null    int64  \n",
            " 8   Ticket       891 non-null    object \n",
            " 9   Fare         891 non-null    float64\n",
            " 10  Cabin        204 non-null    object \n",
            " 11  Embarked     889 non-null    object \n",
            "dtypes: float64(2), int64(5), object(5)\n",
            "memory usage: 83.7+ KB\n",
            "None\n"
          ]
        }
      ]
    },
    {
      "cell_type": "code",
      "source": [
        "# Descrição das colunas\n",
        "coluna_descricao = {\n",
        "    \"PassengerId\": \"ID único do passageiro.\",\n",
        "    \"Survived\": \"Indica se o passageiro sobreviveu (1) ou não (0).\",\n",
        "    \"Pclass\": \"Classe do bilhete do passageiro (1 = 1ª classe, 2 = 2ª classe, 3 = 3ª classe).\",\n",
        "    \"Name\": \"Nome do passageiro.\",\n",
        "    \"Sex\": \"Gênero do passageiro (male = masculino, female = feminino).\",\n",
        "    \"Age\": \"Idade do passageiro em anos.\",\n",
        "    \"SibSp\": \"Número de irmãos/irmãs ou cônjuges a bordo do Titanic.\",\n",
        "    \"Parch\": \"Número de pais/filhos a bordo do Titanic.\",\n",
        "    \"Ticket\": \"Número do bilhete.\",\n",
        "    \"Fare\": \"Tarifa paga pelo bilhete.\",\n",
        "    \"Cabin\": \"Número da cabine do passageiro.\",\n",
        "    \"Embarked\": \"Porto de embarque (C = Cherbourg, Q = Queenstown, S = Southampton).\"\n",
        "}\n",
        "\n",
        "# Imprimir a descrição das colunas\n",
        "print(\"\\nDescrição das colunas:\")\n",
        "for coluna, descricao in coluna_descricao.items():\n",
        "    print(f\"{coluna}: {descricao}\")"
      ],
      "metadata": {
        "colab": {
          "base_uri": "https://localhost:8080/"
        },
        "id": "VPw_X4SQWBeZ",
        "outputId": "54e4aad2-5038-4d38-b471-ee1c88787248"
      },
      "execution_count": 5,
      "outputs": [
        {
          "output_type": "stream",
          "name": "stdout",
          "text": [
            "\n",
            "Descrição das colunas:\n",
            "PassengerId: ID único do passageiro.\n",
            "Survived: Indica se o passageiro sobreviveu (1) ou não (0).\n",
            "Pclass: Classe do bilhete do passageiro (1 = 1ª classe, 2 = 2ª classe, 3 = 3ª classe).\n",
            "Name: Nome do passageiro.\n",
            "Sex: Gênero do passageiro (male = masculino, female = feminino).\n",
            "Age: Idade do passageiro em anos.\n",
            "SibSp: Número de irmãos/irmãs ou cônjuges a bordo do Titanic.\n",
            "Parch: Número de pais/filhos a bordo do Titanic.\n",
            "Ticket: Número do bilhete.\n",
            "Fare: Tarifa paga pelo bilhete.\n",
            "Cabin: Número da cabine do passageiro.\n",
            "Embarked: Porto de embarque (C = Cherbourg, Q = Queenstown, S = Southampton).\n"
          ]
        }
      ]
    },
    {
      "cell_type": "code",
      "source": [
        "# Exibir as primeiras linhas do dataset\n",
        "print(df.head())"
      ],
      "metadata": {
        "colab": {
          "base_uri": "https://localhost:8080/"
        },
        "id": "1jTQq2YcWBp9",
        "outputId": "94ce67f7-452b-4fc3-b4cd-b939dbd2b365"
      },
      "execution_count": 6,
      "outputs": [
        {
          "output_type": "stream",
          "name": "stdout",
          "text": [
            "   PassengerId  Survived  Pclass  \\\n",
            "0            1         0       3   \n",
            "1            2         1       1   \n",
            "2            3         1       3   \n",
            "3            4         1       1   \n",
            "4            5         0       3   \n",
            "\n",
            "                                                Name     Sex   Age  SibSp  \\\n",
            "0                            Braund, Mr. Owen Harris    male  22.0      1   \n",
            "1  Cumings, Mrs. John Bradley (Florence Briggs Th...  female  38.0      1   \n",
            "2                             Heikkinen, Miss. Laina  female  26.0      0   \n",
            "3       Futrelle, Mrs. Jacques Heath (Lily May Peel)  female  35.0      1   \n",
            "4                           Allen, Mr. William Henry    male  35.0      0   \n",
            "\n",
            "   Parch            Ticket     Fare Cabin Embarked  \n",
            "0      0         A/5 21171   7.2500   NaN        S  \n",
            "1      0          PC 17599  71.2833   C85        C  \n",
            "2      0  STON/O2. 3101282   7.9250   NaN        S  \n",
            "3      0            113803  53.1000  C123        S  \n",
            "4      0            373450   8.0500   NaN        S  \n"
          ]
        }
      ]
    },
    {
      "cell_type": "code",
      "source": [
        "# Salvar o DataFrame como um arquivo CSV\n",
        "df.to_csv('titanic.csv', index=False)"
      ],
      "metadata": {
        "id": "C6l-NS82WByr"
      },
      "execution_count": 7,
      "outputs": []
    },
    {
      "cell_type": "code",
      "source": [
        "# Baixar o arquivo CSV\n",
        "files.download('titanic.csv')"
      ],
      "metadata": {
        "colab": {
          "base_uri": "https://localhost:8080/",
          "height": 17
        },
        "id": "p65rq181WTcv",
        "outputId": "d962165b-6150-43f6-937d-8a41cfaa333a"
      },
      "execution_count": 8,
      "outputs": [
        {
          "output_type": "display_data",
          "data": {
            "text/plain": [
              "<IPython.core.display.Javascript object>"
            ],
            "application/javascript": [
              "\n",
              "    async function download(id, filename, size) {\n",
              "      if (!google.colab.kernel.accessAllowed) {\n",
              "        return;\n",
              "      }\n",
              "      const div = document.createElement('div');\n",
              "      const label = document.createElement('label');\n",
              "      label.textContent = `Downloading \"${filename}\": `;\n",
              "      div.appendChild(label);\n",
              "      const progress = document.createElement('progress');\n",
              "      progress.max = size;\n",
              "      div.appendChild(progress);\n",
              "      document.body.appendChild(div);\n",
              "\n",
              "      const buffers = [];\n",
              "      let downloaded = 0;\n",
              "\n",
              "      const channel = await google.colab.kernel.comms.open(id);\n",
              "      // Send a message to notify the kernel that we're ready.\n",
              "      channel.send({})\n",
              "\n",
              "      for await (const message of channel.messages) {\n",
              "        // Send a message to notify the kernel that we're ready.\n",
              "        channel.send({})\n",
              "        if (message.buffers) {\n",
              "          for (const buffer of message.buffers) {\n",
              "            buffers.push(buffer);\n",
              "            downloaded += buffer.byteLength;\n",
              "            progress.value = downloaded;\n",
              "          }\n",
              "        }\n",
              "      }\n",
              "      const blob = new Blob(buffers, {type: 'application/binary'});\n",
              "      const a = document.createElement('a');\n",
              "      a.href = window.URL.createObjectURL(blob);\n",
              "      a.download = filename;\n",
              "      div.appendChild(a);\n",
              "      a.click();\n",
              "      div.remove();\n",
              "    }\n",
              "  "
            ]
          },
          "metadata": {}
        },
        {
          "output_type": "display_data",
          "data": {
            "text/plain": [
              "<IPython.core.display.Javascript object>"
            ],
            "application/javascript": [
              "download(\"download_765c34ea-8ab0-4197-8f56-b78c84389b37\", \"titanic.csv\", 62002)"
            ]
          },
          "metadata": {}
        }
      ]
    },
    {
      "cell_type": "code",
      "source": [
        "# Verificar valores ausentes\n",
        "print(df.isnull().sum())"
      ],
      "metadata": {
        "colab": {
          "base_uri": "https://localhost:8080/"
        },
        "id": "4Ava0NZkbHRO",
        "outputId": "f29f2bbe-899d-4696-e127-0e8fe3d84770"
      },
      "execution_count": 9,
      "outputs": [
        {
          "output_type": "stream",
          "name": "stdout",
          "text": [
            "PassengerId      0\n",
            "Survived         0\n",
            "Pclass           0\n",
            "Name             0\n",
            "Sex              0\n",
            "Age            177\n",
            "SibSp            0\n",
            "Parch            0\n",
            "Ticket           0\n",
            "Fare             0\n",
            "Cabin          687\n",
            "Embarked         2\n",
            "dtype: int64\n"
          ]
        }
      ]
    },
    {
      "cell_type": "code",
      "source": [
        "# Selecionar colunas numéricas para detectar outliers\n",
        "numerical_features = ['Age', 'Fare', 'SibSp', 'Parch']\n",
        "df_numerical = df[numerical_features]\n",
        ""
      ],
      "metadata": {
        "id": "FIh1VUc-bM7C"
      },
      "execution_count": 10,
      "outputs": []
    },
    {
      "cell_type": "code",
      "source": [
        "# Inicializar o modelo Isolation Forest\n",
        "model = IsolationForest(contamination=0.05, random_state=42)"
      ],
      "metadata": {
        "id": "3hTsHpQlbNNL"
      },
      "execution_count": 11,
      "outputs": []
    },
    {
      "cell_type": "code",
      "source": [
        "# Import SimpleImputer to handle missing values\n",
        "from sklearn.impute import SimpleImputer"
      ],
      "metadata": {
        "id": "XUVXDfZabNVQ"
      },
      "execution_count": 12,
      "outputs": []
    },
    {
      "cell_type": "code",
      "source": [
        "# Create an imputer to fill missing values with the median\n",
        "imputer = SimpleImputer(strategy='median')"
      ],
      "metadata": {
        "id": "6CSv0TGKbNfI"
      },
      "execution_count": 13,
      "outputs": []
    },
    {
      "cell_type": "code",
      "source": [
        "# Fit the imputer to your numerical data and transform it\n",
        "df_numerical_imputed = imputer.fit_transform(df_numerical)"
      ],
      "metadata": {
        "id": "EVwtS3dRbNob"
      },
      "execution_count": 14,
      "outputs": []
    },
    {
      "cell_type": "code",
      "source": [
        "# Ajustar o modelo aos dados numéricos (após preenchimento de valores ausentes)\n",
        "model.fit(df_numerical_imputed)"
      ],
      "metadata": {
        "colab": {
          "base_uri": "https://localhost:8080/",
          "height": 75
        },
        "id": "XWym5-Ttbpta",
        "outputId": "ff01341e-8d15-4b20-c94d-25917b98cb74"
      },
      "execution_count": 15,
      "outputs": [
        {
          "output_type": "execute_result",
          "data": {
            "text/plain": [
              "IsolationForest(contamination=0.05, random_state=42)"
            ],
            "text/html": [
              "<style>#sk-container-id-1 {color: black;background-color: white;}#sk-container-id-1 pre{padding: 0;}#sk-container-id-1 div.sk-toggleable {background-color: white;}#sk-container-id-1 label.sk-toggleable__label {cursor: pointer;display: block;width: 100%;margin-bottom: 0;padding: 0.3em;box-sizing: border-box;text-align: center;}#sk-container-id-1 label.sk-toggleable__label-arrow:before {content: \"▸\";float: left;margin-right: 0.25em;color: #696969;}#sk-container-id-1 label.sk-toggleable__label-arrow:hover:before {color: black;}#sk-container-id-1 div.sk-estimator:hover label.sk-toggleable__label-arrow:before {color: black;}#sk-container-id-1 div.sk-toggleable__content {max-height: 0;max-width: 0;overflow: hidden;text-align: left;background-color: #f0f8ff;}#sk-container-id-1 div.sk-toggleable__content pre {margin: 0.2em;color: black;border-radius: 0.25em;background-color: #f0f8ff;}#sk-container-id-1 input.sk-toggleable__control:checked~div.sk-toggleable__content {max-height: 200px;max-width: 100%;overflow: auto;}#sk-container-id-1 input.sk-toggleable__control:checked~label.sk-toggleable__label-arrow:before {content: \"▾\";}#sk-container-id-1 div.sk-estimator input.sk-toggleable__control:checked~label.sk-toggleable__label {background-color: #d4ebff;}#sk-container-id-1 div.sk-label input.sk-toggleable__control:checked~label.sk-toggleable__label {background-color: #d4ebff;}#sk-container-id-1 input.sk-hidden--visually {border: 0;clip: rect(1px 1px 1px 1px);clip: rect(1px, 1px, 1px, 1px);height: 1px;margin: -1px;overflow: hidden;padding: 0;position: absolute;width: 1px;}#sk-container-id-1 div.sk-estimator {font-family: monospace;background-color: #f0f8ff;border: 1px dotted black;border-radius: 0.25em;box-sizing: border-box;margin-bottom: 0.5em;}#sk-container-id-1 div.sk-estimator:hover {background-color: #d4ebff;}#sk-container-id-1 div.sk-parallel-item::after {content: \"\";width: 100%;border-bottom: 1px solid gray;flex-grow: 1;}#sk-container-id-1 div.sk-label:hover label.sk-toggleable__label {background-color: #d4ebff;}#sk-container-id-1 div.sk-serial::before {content: \"\";position: absolute;border-left: 1px solid gray;box-sizing: border-box;top: 0;bottom: 0;left: 50%;z-index: 0;}#sk-container-id-1 div.sk-serial {display: flex;flex-direction: column;align-items: center;background-color: white;padding-right: 0.2em;padding-left: 0.2em;position: relative;}#sk-container-id-1 div.sk-item {position: relative;z-index: 1;}#sk-container-id-1 div.sk-parallel {display: flex;align-items: stretch;justify-content: center;background-color: white;position: relative;}#sk-container-id-1 div.sk-item::before, #sk-container-id-1 div.sk-parallel-item::before {content: \"\";position: absolute;border-left: 1px solid gray;box-sizing: border-box;top: 0;bottom: 0;left: 50%;z-index: -1;}#sk-container-id-1 div.sk-parallel-item {display: flex;flex-direction: column;z-index: 1;position: relative;background-color: white;}#sk-container-id-1 div.sk-parallel-item:first-child::after {align-self: flex-end;width: 50%;}#sk-container-id-1 div.sk-parallel-item:last-child::after {align-self: flex-start;width: 50%;}#sk-container-id-1 div.sk-parallel-item:only-child::after {width: 0;}#sk-container-id-1 div.sk-dashed-wrapped {border: 1px dashed gray;margin: 0 0.4em 0.5em 0.4em;box-sizing: border-box;padding-bottom: 0.4em;background-color: white;}#sk-container-id-1 div.sk-label label {font-family: monospace;font-weight: bold;display: inline-block;line-height: 1.2em;}#sk-container-id-1 div.sk-label-container {text-align: center;}#sk-container-id-1 div.sk-container {/* jupyter's `normalize.less` sets `[hidden] { display: none; }` but bootstrap.min.css set `[hidden] { display: none !important; }` so we also need the `!important` here to be able to override the default hidden behavior on the sphinx rendered scikit-learn.org. See: https://github.com/scikit-learn/scikit-learn/issues/21755 */display: inline-block !important;position: relative;}#sk-container-id-1 div.sk-text-repr-fallback {display: none;}</style><div id=\"sk-container-id-1\" class=\"sk-top-container\"><div class=\"sk-text-repr-fallback\"><pre>IsolationForest(contamination=0.05, random_state=42)</pre><b>In a Jupyter environment, please rerun this cell to show the HTML representation or trust the notebook. <br />On GitHub, the HTML representation is unable to render, please try loading this page with nbviewer.org.</b></div><div class=\"sk-container\" hidden><div class=\"sk-item\"><div class=\"sk-estimator sk-toggleable\"><input class=\"sk-toggleable__control sk-hidden--visually\" id=\"sk-estimator-id-1\" type=\"checkbox\" checked><label for=\"sk-estimator-id-1\" class=\"sk-toggleable__label sk-toggleable__label-arrow\">IsolationForest</label><div class=\"sk-toggleable__content\"><pre>IsolationForest(contamination=0.05, random_state=42)</pre></div></div></div></div></div>"
            ]
          },
          "metadata": {},
          "execution_count": 15
        }
      ]
    },
    {
      "cell_type": "code",
      "source": [
        "# Predict outliers\n",
        "outlier_predictions = model.predict(df_numerical_imputed)"
      ],
      "metadata": {
        "id": "j7LOJpYlbp4e"
      },
      "execution_count": 16,
      "outputs": []
    },
    {
      "cell_type": "code",
      "source": [
        "# Add the predictions as a new column to your original DataFrame\n",
        "df['Outlier'] = outlier_predictions"
      ],
      "metadata": {
        "id": "IUNENcYdbqB9"
      },
      "execution_count": 17,
      "outputs": []
    },
    {
      "cell_type": "code",
      "source": [
        "# Display the rows where outliers were detected (outlier_predictions == -1)\n",
        "print(df[df['Outlier'] == -1])"
      ],
      "metadata": {
        "colab": {
          "base_uri": "https://localhost:8080/"
        },
        "id": "Ig1eY6RPbqLv",
        "outputId": "577f4635-cd28-482b-8ce3-85621964a66e"
      },
      "execution_count": 18,
      "outputs": [
        {
          "output_type": "stream",
          "name": "stdout",
          "text": [
            "     PassengerId  Survived  Pclass  \\\n",
            "13            14         0       3   \n",
            "16            17         0       3   \n",
            "25            26         1       3   \n",
            "27            28         0       1   \n",
            "50            51         0       3   \n",
            "59            60         0       3   \n",
            "71            72         0       3   \n",
            "88            89         1       1   \n",
            "118          119         0       1   \n",
            "159          160         0       3   \n",
            "164          165         0       3   \n",
            "167          168         0       3   \n",
            "180          181         0       3   \n",
            "201          202         0       3   \n",
            "258          259         1       1   \n",
            "268          269         1       1   \n",
            "297          298         0       1   \n",
            "299          300         1       1   \n",
            "305          306         1       1   \n",
            "311          312         1       1   \n",
            "324          325         0       3   \n",
            "341          342         1       1   \n",
            "377          378         0       1   \n",
            "380          381         1       1   \n",
            "386          387         0       3   \n",
            "438          439         0       1   \n",
            "480          481         0       3   \n",
            "610          611         0       3   \n",
            "638          639         0       3   \n",
            "659          660         0       1   \n",
            "660          661         1       1   \n",
            "678          679         0       3   \n",
            "679          680         1       1   \n",
            "683          684         0       3   \n",
            "689          690         1       1   \n",
            "700          701         1       1   \n",
            "737          738         1       1   \n",
            "742          743         1       1   \n",
            "774          775         1       2   \n",
            "779          780         1       1   \n",
            "792          793         0       3   \n",
            "824          825         0       3   \n",
            "846          847         0       3   \n",
            "863          864         0       3   \n",
            "885          886         0       3   \n",
            "\n",
            "                                                  Name     Sex    Age  SibSp  \\\n",
            "13                         Andersson, Mr. Anders Johan    male  39.00      1   \n",
            "16                                Rice, Master. Eugene    male   2.00      4   \n",
            "25   Asplund, Mrs. Carl Oscar (Selma Augusta Emilia...  female  38.00      1   \n",
            "27                      Fortune, Mr. Charles Alexander    male  19.00      3   \n",
            "50                          Panula, Master. Juha Niilo    male   7.00      4   \n",
            "59                  Goodwin, Master. William Frederick    male  11.00      5   \n",
            "71                          Goodwin, Miss. Lillian Amy  female  16.00      5   \n",
            "88                          Fortune, Miss. Mabel Helen  female  23.00      3   \n",
            "118                           Baxter, Mr. Quigg Edmond    male  24.00      0   \n",
            "159                         Sage, Master. Thomas Henry    male    NaN      8   \n",
            "164                       Panula, Master. Eino Viljami    male   1.00      4   \n",
            "167    Skoog, Mrs. William (Anna Bernhardina Karlsson)  female  45.00      1   \n",
            "180                       Sage, Miss. Constance Gladys  female    NaN      8   \n",
            "201                                Sage, Mr. Frederick    male    NaN      8   \n",
            "258                                   Ward, Miss. Anna  female  35.00      0   \n",
            "268      Graham, Mrs. William Thompson (Edith Junkins)  female  58.00      0   \n",
            "297                       Allison, Miss. Helen Loraine  female   2.00      1   \n",
            "299    Baxter, Mrs. James (Helene DeLaudeniere Chaput)  female  50.00      0   \n",
            "305                     Allison, Master. Hudson Trevor    male   0.92      1   \n",
            "311                         Ryerson, Miss. Emily Borie  female  18.00      2   \n",
            "324                           Sage, Mr. George John Jr    male    NaN      8   \n",
            "341                     Fortune, Miss. Alice Elizabeth  female  24.00      3   \n",
            "377                          Widener, Mr. Harry Elkins    male  27.00      0   \n",
            "380                              Bidois, Miss. Rosalie  female  42.00      0   \n",
            "386                    Goodwin, Master. Sidney Leonard    male   1.00      5   \n",
            "438                                  Fortune, Mr. Mark    male  64.00      1   \n",
            "480                     Goodwin, Master. Harold Victor    male   9.00      5   \n",
            "610  Andersson, Mrs. Anders Johan (Alfrida Konstant...  female  39.00      1   \n",
            "638             Panula, Mrs. Juha (Maria Emilia Ojala)  female  41.00      0   \n",
            "659                         Newell, Mr. Arthur Webster    male  58.00      0   \n",
            "660                      Frauenthal, Dr. Henry William    male  50.00      2   \n",
            "678            Goodwin, Mrs. Frederick (Augusta Tyler)  female  43.00      1   \n",
            "679                 Cardeza, Mr. Thomas Drake Martinez    male  36.00      0   \n",
            "683                        Goodwin, Mr. Charles Edward    male  14.00      5   \n",
            "689                  Madill, Miss. Georgette Alexandra  female  15.00      0   \n",
            "700  Astor, Mrs. John Jacob (Madeleine Talmadge Force)  female  18.00      1   \n",
            "737                             Lesurer, Mr. Gustave J    male  35.00      0   \n",
            "742              Ryerson, Miss. Susan Parker \"Suzette\"  female  21.00      2   \n",
            "774              Hocking, Mrs. Elizabeth (Eliza Needs)  female  54.00      1   \n",
            "779  Robert, Mrs. Edward Scott (Elisabeth Walton Mc...  female  43.00      0   \n",
            "792                            Sage, Miss. Stella Anna  female    NaN      8   \n",
            "824                       Panula, Master. Urho Abraham    male   2.00      4   \n",
            "846                           Sage, Mr. Douglas Bullen    male    NaN      8   \n",
            "863                  Sage, Miss. Dorothy Edith \"Dolly\"  female    NaN      8   \n",
            "885               Rice, Mrs. William (Margaret Norton)  female  39.00      0   \n",
            "\n",
            "     Parch    Ticket      Fare            Cabin Embarked  Outlier  \n",
            "13       5    347082   31.2750              NaN        S       -1  \n",
            "16       1    382652   29.1250              NaN        Q       -1  \n",
            "25       5    347077   31.3875              NaN        S       -1  \n",
            "27       2     19950  263.0000      C23 C25 C27        S       -1  \n",
            "50       1   3101295   39.6875              NaN        S       -1  \n",
            "59       2   CA 2144   46.9000              NaN        S       -1  \n",
            "71       2   CA 2144   46.9000              NaN        S       -1  \n",
            "88       2     19950  263.0000      C23 C25 C27        S       -1  \n",
            "118      1  PC 17558  247.5208          B58 B60        C       -1  \n",
            "159      2  CA. 2343   69.5500              NaN        S       -1  \n",
            "164      1   3101295   39.6875              NaN        S       -1  \n",
            "167      4    347088   27.9000              NaN        S       -1  \n",
            "180      2  CA. 2343   69.5500              NaN        S       -1  \n",
            "201      2  CA. 2343   69.5500              NaN        S       -1  \n",
            "258      0  PC 17755  512.3292              NaN        C       -1  \n",
            "268      1  PC 17582  153.4625             C125        S       -1  \n",
            "297      2    113781  151.5500          C22 C26        S       -1  \n",
            "299      1  PC 17558  247.5208          B58 B60        C       -1  \n",
            "305      2    113781  151.5500          C22 C26        S       -1  \n",
            "311      2  PC 17608  262.3750  B57 B59 B63 B66        C       -1  \n",
            "324      2  CA. 2343   69.5500              NaN        S       -1  \n",
            "341      2     19950  263.0000      C23 C25 C27        S       -1  \n",
            "377      2    113503  211.5000              C82        C       -1  \n",
            "380      0  PC 17757  227.5250              NaN        C       -1  \n",
            "386      2   CA 2144   46.9000              NaN        S       -1  \n",
            "438      4     19950  263.0000      C23 C25 C27        S       -1  \n",
            "480      2   CA 2144   46.9000              NaN        S       -1  \n",
            "610      5    347082   31.2750              NaN        S       -1  \n",
            "638      5   3101295   39.6875              NaN        S       -1  \n",
            "659      2     35273  113.2750              D48        C       -1  \n",
            "660      0  PC 17611  133.6500              NaN        S       -1  \n",
            "678      6   CA 2144   46.9000              NaN        S       -1  \n",
            "679      1  PC 17755  512.3292      B51 B53 B55        C       -1  \n",
            "683      2   CA 2144   46.9000              NaN        S       -1  \n",
            "689      1     24160  211.3375               B5        S       -1  \n",
            "700      0  PC 17757  227.5250          C62 C64        C       -1  \n",
            "737      0  PC 17755  512.3292             B101        C       -1  \n",
            "742      2  PC 17608  262.3750  B57 B59 B63 B66        C       -1  \n",
            "774      3     29105   23.0000              NaN        S       -1  \n",
            "779      1     24160  211.3375               B3        S       -1  \n",
            "792      2  CA. 2343   69.5500              NaN        S       -1  \n",
            "824      1   3101295   39.6875              NaN        S       -1  \n",
            "846      2  CA. 2343   69.5500              NaN        S       -1  \n",
            "863      2  CA. 2343   69.5500              NaN        S       -1  \n",
            "885      5    382652   29.1250              NaN        Q       -1  \n"
          ]
        }
      ]
    },
    {
      "cell_type": "code",
      "source": [
        "# Choose two numerical features to plot (adjust as needed)\n",
        "feature1 = 'Age'\n",
        "feature2 = 'Fare'\n",
        "\n",
        "# Create a scatter plot\n",
        "plt.figure(figsize=(8, 6))\n",
        "plt.scatter(df[feature1][df['Outlier'] == 1],\n",
        "            df[feature2][df['Outlier'] == 1],\n",
        "            c='blue', label='Inliers')\n",
        "plt.scatter(df[feature1][df['Outlier'] == -1],\n",
        "            df[feature2][df['Outlier'] == -1],\n",
        "            c='red', label='Outliers')\n",
        "plt.xlabel(feature1)\n",
        "plt.ylabel(feature2)\n",
        "plt.title('Outlier Detection with Isolation Forest')\n",
        "plt.legend()\n",
        "plt.show()"
      ],
      "metadata": {
        "colab": {
          "base_uri": "https://localhost:8080/",
          "height": 564
        },
        "id": "OgvrFpUkb9hn",
        "outputId": "50206ed6-c650-46f6-a848-6cefc829d8bc"
      },
      "execution_count": 19,
      "outputs": [
        {
          "output_type": "display_data",
          "data": {
            "text/plain": [
              "<Figure size 800x600 with 1 Axes>"
            ],
            "image/png": "[encoded data removed]"
          },
          "metadata": {}
        }
      ]
    },
    {
      "cell_type": "code",
      "source": [
        "# Create a new DataFrame without outliers\n",
        "df_no_outliers = df[df['Outlier'] == 1]\n",
        "\n",
        "# Optionally, reset the index of the new DataFrame\n",
        "df_no_outliers = df_no_outliers.reset_index(drop=True)\n",
        "\n",
        "print(df_no_outliers.head())"
      ],
      "metadata": {
        "colab": {
          "base_uri": "https://localhost:8080/"
        },
        "id": "UjURoQepb9q-",
        "outputId": "fe22677a-6dce-4a42-a366-9dc837529efb"
      },
      "execution_count": 20,
      "outputs": [
        {
          "output_type": "stream",
          "name": "stdout",
          "text": [
            "   PassengerId  Survived  Pclass  \\\n",
            "0            1         0       3   \n",
            "1            2         1       1   \n",
            "2            3         1       3   \n",
            "3            4         1       1   \n",
            "4            5         0       3   \n",
            "\n",
            "                                                Name     Sex   Age  SibSp  \\\n",
            "0                            Braund, Mr. Owen Harris    male  22.0      1   \n",
            "1  Cumings, Mrs. John Bradley (Florence Briggs Th...  female  38.0      1   \n",
            "2                             Heikkinen, Miss. Laina  female  26.0      0   \n",
            "3       Futrelle, Mrs. Jacques Heath (Lily May Peel)  female  35.0      1   \n",
            "4                           Allen, Mr. William Henry    male  35.0      0   \n",
            "\n",
            "   Parch            Ticket     Fare Cabin Embarked  Outlier  \n",
            "0      0         A/5 21171   7.2500   NaN        S        1  \n",
            "1      0          PC 17599  71.2833   C85        C        1  \n",
            "2      0  STON/O2. 3101282   7.9250   NaN        S        1  \n",
            "3      0            113803  53.1000  C123        S        1  \n",
            "4      0            373450   8.0500   NaN        S        1  \n"
          ]
        }
      ]
    },
    {
      "cell_type": "code",
      "source": [
        "# Salvar o DataFrame como um arquivo CSV\n",
        "df_no_outliers.to_csv('titanic_no_outliers.csv', index=False)"
      ],
      "metadata": {
        "id": "pPZ2XuvmcLb4"
      },
      "execution_count": 21,
      "outputs": []
    },
    {
      "cell_type": "code",
      "source": [
        "# Baixar o arquivo CSV\n",
        "files.download('titanic_no_outliers.csv')"
      ],
      "metadata": {
        "colab": {
          "base_uri": "https://localhost:8080/",
          "height": 17
        },
        "id": "VyZacMhGcMsT",
        "outputId": "d5c28205-6907-40c3-a27c-881afb1b4014"
      },
      "execution_count": 22,
      "outputs": [
        {
          "output_type": "display_data",
          "data": {
            "text/plain": [
              "<IPython.core.display.Javascript object>"
            ],
            "application/javascript": [
              "\n",
              "    async function download(id, filename, size) {\n",
              "      if (!google.colab.kernel.accessAllowed) {\n",
              "        return;\n",
              "      }\n",
              "      const div = document.createElement('div');\n",
              "      const label = document.createElement('label');\n",
              "      label.textContent = `Downloading \"${filename}\": `;\n",
              "      div.appendChild(label);\n",
              "      const progress = document.createElement('progress');\n",
              "      progress.max = size;\n",
              "      div.appendChild(progress);\n",
              "      document.body.appendChild(div);\n",
              "\n",
              "      const buffers = [];\n",
              "      let downloaded = 0;\n",
              "\n",
              "      const channel = await google.colab.kernel.comms.open(id);\n",
              "      // Send a message to notify the kernel that we're ready.\n",
              "      channel.send({})\n",
              "\n",
              "      for await (const message of channel.messages) {\n",
              "        // Send a message to notify the kernel that we're ready.\n",
              "        channel.send({})\n",
              "        if (message.buffers) {\n",
              "          for (const buffer of message.buffers) {\n",
              "            buffers.push(buffer);\n",
              "            downloaded += buffer.byteLength;\n",
              "            progress.value = downloaded;\n",
              "          }\n",
              "        }\n",
              "      }\n",
              "      const blob = new Blob(buffers, {type: 'application/binary'});\n",
              "      const a = document.createElement('a');\n",
              "      a.href = window.URL.createObjectURL(blob);\n",
              "      a.download = filename;\n",
              "      div.appendChild(a);\n",
              "      a.click();\n",
              "      div.remove();\n",
              "    }\n",
              "  "
            ]
          },
          "metadata": {}
        },
        {
          "output_type": "display_data",
          "data": {
            "text/plain": [
              "<IPython.core.display.Javascript object>"
            ],
            "application/javascript": [
              "download(\"download_a45b9d19-fd23-49da-98fd-30ea14f51d40\", \"titanic_no_outliers.csv\", 60218)"
            ]
          },
          "metadata": {}
        }
      ]
    }
  ]
}