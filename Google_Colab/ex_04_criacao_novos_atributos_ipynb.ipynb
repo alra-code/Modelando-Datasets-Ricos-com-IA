{
  "nbformat": 4,
  "nbformat_minor": 0,
  "metadata": {
    "colab": {
      "provenance": [],
      "authorship_tag": "ABX9TyMov6z0ViyMw4sWlJrp48er",
      "include_colab_link": true
    },
    "kernelspec": {
      "name": "python3",
      "display_name": "Python 3"
    },
    "language_info": {
      "name": "python"
    }
  },
  "cells": [
    {
      "cell_type": "markdown",
      "metadata": {
        "id": "view-in-github",
        "colab_type": "text"
      },
      "source": [
        "<a href=\"https://colab.research.google.com/github/alra-code/Modelando-Datasets-Ricos-com-IA/blob/main/ex_04_criacao_novos_atributos_ipynb.ipynb\" target=\"_parent\"><img src=\"https://colab.research.google.com/assets/colab-badge.svg\" alt=\"Open In Colab\"/></a>"
      ]
    },
    {
      "cell_type": "code",
      "execution_count": 1,
      "metadata": {
        "id": "LgwOUgWzknVI"
      },
      "outputs": [],
      "source": [
        "import pandas as pd\n",
        "import numpy as np\n",
        "import matplotlib.pyplot as plt\n",
        "import os as os\n",
        "from google.colab import files"
      ]
    },
    {
      "cell_type": "code",
      "source": [
        "# Carregar o conjunto de dados Titanic\n",
        "url = \"https://raw.githubusercontent.com/datasciencedojo/datasets/master/titanic.csv\"\n",
        "df = pd.read_csv(url)\n",
        "\n",
        "# Visualizar as primeiras linhas do DataFrame\n",
        "print(\"Primeiras linhas do DataFrame original:\")\n",
        "print(df.head())"
      ],
      "metadata": {
        "colab": {
          "base_uri": "https://localhost:8080/"
        },
        "id": "1voHXivekvQa",
        "outputId": "1de38b18-c75e-495e-ca56-bad87a2d6803"
      },
      "execution_count": 2,
      "outputs": [
        {
          "output_type": "stream",
          "name": "stdout",
          "text": [
            "Primeiras linhas do DataFrame original:\n",
            "   PassengerId  Survived  Pclass  \\\n",
            "0            1         0       3   \n",
            "1            2         1       1   \n",
            "2            3         1       3   \n",
            "3            4         1       1   \n",
            "4            5         0       3   \n",
            "\n",
            "                                                Name     Sex   Age  SibSp  \\\n",
            "0                            Braund, Mr. Owen Harris    male  22.0      1   \n",
            "1  Cumings, Mrs. John Bradley (Florence Briggs Th...  female  38.0      1   \n",
            "2                             Heikkinen, Miss. Laina  female  26.0      0   \n",
            "3       Futrelle, Mrs. Jacques Heath (Lily May Peel)  female  35.0      1   \n",
            "4                           Allen, Mr. William Henry    male  35.0      0   \n",
            "\n",
            "   Parch            Ticket     Fare Cabin Embarked  \n",
            "0      0         A/5 21171   7.2500   NaN        S  \n",
            "1      0          PC 17599  71.2833   C85        C  \n",
            "2      0  STON/O2. 3101282   7.9250   NaN        S  \n",
            "3      0            113803  53.1000  C123        S  \n",
            "4      0            373450   8.0500   NaN        S  \n"
          ]
        }
      ]
    },
    {
      "cell_type": "code",
      "source": [
        "# Criar um novo atributo 'AgeGroup'\n",
        "bins = [0, 12, 18, 35, 60, 120]\n",
        "labels = ['Crianca', 'Adolescente', 'Adulto Jovem', 'Adulto', 'Idoso']\n",
        "df['AgeGroup'] = pd.cut(df['Age'], bins=bins, labels=labels)\n",
        "\n",
        "# Visualizar o novo atributo\n",
        "print(\"\\nPrimeiras linhas com o novo atributo 'AgeGroup':\")\n",
        "print(df[['Age', 'AgeGroup']].head(10))"
      ],
      "metadata": {
        "colab": {
          "base_uri": "https://localhost:8080/"
        },
        "id": "o_3Ir8zzkvgI",
        "outputId": "d0b9d50a-b5c7-4263-eb0e-e8ad3a88c733"
      },
      "execution_count": 3,
      "outputs": [
        {
          "output_type": "stream",
          "name": "stdout",
          "text": [
            "\n",
            "Primeiras linhas com o novo atributo 'AgeGroup':\n",
            "    Age      AgeGroup\n",
            "0  22.0  Adulto Jovem\n",
            "1  38.0        Adulto\n",
            "2  26.0  Adulto Jovem\n",
            "3  35.0  Adulto Jovem\n",
            "4  35.0  Adulto Jovem\n",
            "5   NaN           NaN\n",
            "6  54.0        Adulto\n",
            "7   2.0       Crianca\n",
            "8  27.0  Adulto Jovem\n",
            "9  14.0   Adolescente\n"
          ]
        }
      ]
    },
    {
      "cell_type": "code",
      "source": [
        "# Criar um novo atributo 'FamilySize'\n",
        "df['FamilySize'] = df['SibSp'] + df['Parch'] + 1  # Adiciona 1 para incluir o próprio passageiro\n",
        "\n",
        "# Visualizar o novo atributo\n",
        "print(\"\\nPrimeiras linhas com o novo atributo 'FamilySize':\")\n",
        "print(df[['SibSp', 'Parch', 'FamilySize']].head(10))"
      ],
      "metadata": {
        "colab": {
          "base_uri": "https://localhost:8080/"
        },
        "id": "NXlt0jpRkvpW",
        "outputId": "a4699718-ead7-47a6-fd8a-8fbc22630cdc"
      },
      "execution_count": 4,
      "outputs": [
        {
          "output_type": "stream",
          "name": "stdout",
          "text": [
            "\n",
            "Primeiras linhas com o novo atributo 'FamilySize':\n",
            "   SibSp  Parch  FamilySize\n",
            "0      1      0           2\n",
            "1      1      0           2\n",
            "2      0      0           1\n",
            "3      1      0           2\n",
            "4      0      0           1\n",
            "5      0      0           1\n",
            "6      0      0           1\n",
            "7      3      1           5\n",
            "8      0      2           3\n",
            "9      1      0           2\n"
          ]
        }
      ]
    },
    {
      "cell_type": "code",
      "source": [
        "# Criar um novo atributo 'FarePerPerson'\n",
        "df['FarePerPerson'] = df['Fare'] / df['FamilySize']\n",
        "\n",
        "# Visualizar o novo atributo\n",
        "print(\"\\nPrimeiras linhas com o novo atributo 'FarePerPerson':\")\n",
        "print(df[['Fare', 'FamilySize', 'FarePerPerson']].head(10))"
      ],
      "metadata": {
        "colab": {
          "base_uri": "https://localhost:8080/"
        },
        "id": "xnBRn0tflPD3",
        "outputId": "7c0d34ce-69d6-4456-a652-e35f149a9f02"
      },
      "execution_count": 5,
      "outputs": [
        {
          "output_type": "stream",
          "name": "stdout",
          "text": [
            "\n",
            "Primeiras linhas com o novo atributo 'FarePerPerson':\n",
            "      Fare  FamilySize  FarePerPerson\n",
            "0   7.2500           2        3.62500\n",
            "1  71.2833           2       35.64165\n",
            "2   7.9250           1        7.92500\n",
            "3  53.1000           2       26.55000\n",
            "4   8.0500           1        8.05000\n",
            "5   8.4583           1        8.45830\n",
            "6  51.8625           1       51.86250\n",
            "7  21.0750           5        4.21500\n",
            "8  11.1333           3        3.71110\n",
            "9  30.0708           2       15.03540\n"
          ]
        }
      ]
    },
    {
      "cell_type": "code",
      "source": [
        "# Extrair título do nome\n",
        "df['Title'] = df['Name'].str.extract(' ([A-Za-z]+)\\.', expand=False)\n",
        "\n",
        "# Visualizar o novo atributo\n",
        "print(\"\\nPrimeiras linhas com o novo atributo 'Title':\")\n",
        "print(df[['Name', 'Title']].head(10))"
      ],
      "metadata": {
        "colab": {
          "base_uri": "https://localhost:8080/"
        },
        "id": "8sYu1AxnlPWL",
        "outputId": "633d3f1b-fff4-41e6-b73c-341cf44ce316"
      },
      "execution_count": 6,
      "outputs": [
        {
          "output_type": "stream",
          "name": "stdout",
          "text": [
            "\n",
            "Primeiras linhas com o novo atributo 'Title':\n",
            "                                                Name   Title\n",
            "0                            Braund, Mr. Owen Harris      Mr\n",
            "1  Cumings, Mrs. John Bradley (Florence Briggs Th...     Mrs\n",
            "2                             Heikkinen, Miss. Laina    Miss\n",
            "3       Futrelle, Mrs. Jacques Heath (Lily May Peel)     Mrs\n",
            "4                           Allen, Mr. William Henry      Mr\n",
            "5                                   Moran, Mr. James      Mr\n",
            "6                            McCarthy, Mr. Timothy J      Mr\n",
            "7                     Palsson, Master. Gosta Leonard  Master\n",
            "8  Johnson, Mrs. Oscar W (Elisabeth Vilhelmina Berg)     Mrs\n",
            "9                Nasser, Mrs. Nicholas (Adele Achem)     Mrs\n"
          ]
        }
      ]
    },
    {
      "cell_type": "code",
      "source": [
        "# Salvar o DataFrame como um arquivo CSV\n",
        "df.to_csv('titanic_adicao_atributos.csv', index=False)"
      ],
      "metadata": {
        "id": "bpifgsQ0lXji"
      },
      "execution_count": 7,
      "outputs": []
    },
    {
      "cell_type": "code",
      "source": [
        "# Baixar o arquivo CSV\n",
        "files.download('titanic_adicao_atributos.csv')"
      ],
      "metadata": {
        "colab": {
          "base_uri": "https://localhost:8080/",
          "height": 17
        },
        "id": "MFl4kB45lXsO",
        "outputId": "880d1542-8bbe-4e78-cfb6-31c5714cb663"
      },
      "execution_count": 8,
      "outputs": [
        {
          "output_type": "display_data",
          "data": {
            "text/plain": [
              "<IPython.core.display.Javascript object>"
            ],
            "application/javascript": [
              "\n",
              "    async function download(id, filename, size) {\n",
              "      if (!google.colab.kernel.accessAllowed) {\n",
              "        return;\n",
              "      }\n",
              "      const div = document.createElement('div');\n",
              "      const label = document.createElement('label');\n",
              "      label.textContent = `Downloading \"${filename}\": `;\n",
              "      div.appendChild(label);\n",
              "      const progress = document.createElement('progress');\n",
              "      progress.max = size;\n",
              "      div.appendChild(progress);\n",
              "      document.body.appendChild(div);\n",
              "\n",
              "      const buffers = [];\n",
              "      let downloaded = 0;\n",
              "\n",
              "      const channel = await google.colab.kernel.comms.open(id);\n",
              "      // Send a message to notify the kernel that we're ready.\n",
              "      channel.send({})\n",
              "\n",
              "      for await (const message of channel.messages) {\n",
              "        // Send a message to notify the kernel that we're ready.\n",
              "        channel.send({})\n",
              "        if (message.buffers) {\n",
              "          for (const buffer of message.buffers) {\n",
              "            buffers.push(buffer);\n",
              "            downloaded += buffer.byteLength;\n",
              "            progress.value = downloaded;\n",
              "          }\n",
              "        }\n",
              "      }\n",
              "      const blob = new Blob(buffers, {type: 'application/binary'});\n",
              "      const a = document.createElement('a');\n",
              "      a.href = window.URL.createObjectURL(blob);\n",
              "      a.download = filename;\n",
              "      div.appendChild(a);\n",
              "      a.click();\n",
              "      div.remove();\n",
              "    }\n",
              "  "
            ]
          },
          "metadata": {}
        },
        {
          "output_type": "display_data",
          "data": {
            "text/plain": [
              "<IPython.core.display.Javascript object>"
            ],
            "application/javascript": [
              "download(\"download_03b15f24-11fa-4a19-876f-3273f63c2da9\", \"titanic_adicao_atributos.csv\", 81597)"
            ]
          },
          "metadata": {}
        }
      ]
    }
  ]
}