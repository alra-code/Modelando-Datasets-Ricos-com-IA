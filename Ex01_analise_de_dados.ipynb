{
  "nbformat": 4,
  "nbformat_minor": 0,
  "metadata": {
    "colab": {
      "provenance": [],
      "toc_visible": true,
      "authorship_tag": "ABX9TyOaf0t4gmfQQx9ZwBig1K7d",
      "include_colab_link": true
    },
    "kernelspec": {
      "name": "python3",
      "display_name": "Python 3"
    },
    "language_info": {
      "name": "python"
    }
  },
  "cells": [
    {
      "cell_type": "markdown",
      "metadata": {
        "id": "view-in-github",
        "colab_type": "text"
      },
      "source": [
        "<a href=\"https://colab.research.google.com/github/alra-code/Modelando-Datasets-Ricos-com-IA/blob/main/Ex01_analise_de_dados.ipynb\" target=\"_parent\"><img src=\"https://colab.research.google.com/assets/colab-badge.svg\" alt=\"Open In Colab\"/></a>"
      ]
    },
    {
      "cell_type": "code",
      "execution_count": null,
      "metadata": {
        "id": "ZK-QnZ6zE640"
      },
      "outputs": [],
      "source": [
        "import pandas as pd #Biblioteca para manipulação e análise de dados\n",
        "import seaborn as sns #Biblioteca de visualização de dados\n",
        "import os as os #biblioteca para interagir com o sistema operacional\n",
        "from sklearn.impute import KNNImputer #biblioteca para aprendizado de máquina (IA)\n",
        "from google.colab import files #biblioteca para interagir com o ambiente Colab"
      ]
    },
    {
      "cell_type": "code",
      "source": [
        "# Carregar o conjunto de dados Titanic\n",
        "titanic = sns.load_dataset('titanic')"
      ],
      "metadata": {
        "id": "J2p0Qh9PJZ0-"
      },
      "execution_count": null,
      "outputs": []
    },
    {
      "cell_type": "code",
      "source": [
        "# Visualizar as colunas do conjunto de dados (metadados). Importante para a governanca de dados\n",
        "print(\"Colunas do conjunto de dados Titanic:\")\n",
        "print(titanic.columns)"
      ],
      "metadata": {
        "colab": {
          "base_uri": "https://localhost:8080/"
        },
        "id": "lm7TXsaSJsYO",
        "outputId": "d6b953ff-54e5-4e97-8146-b13db0179399"
      },
      "execution_count": null,
      "outputs": [
        {
          "output_type": "stream",
          "name": "stdout",
          "text": [
            "Colunas do conjunto de dados Titanic:\n",
            "Index(['survived', 'pclass', 'sex', 'age', 'sibsp', 'parch', 'fare',\n",
            "       'embarked', 'class', 'who', 'adult_male', 'deck', 'embark_town',\n",
            "       'alive', 'alone'],\n",
            "      dtype='object')\n"
          ]
        }
      ]
    },
    {
      "cell_type": "code",
      "source": [
        "# Resumo das colunas\n",
        "print(\"\\nResumo das colunas:\")\n",
        "print(titanic.info())"
      ],
      "metadata": {
        "colab": {
          "base_uri": "https://localhost:8080/"
        },
        "id": "aIK1-TUIJx7f",
        "outputId": "8c9e11a4-6d70-4fae-c5d9-1db6b2bbd94d"
      },
      "execution_count": null,
      "outputs": [
        {
          "output_type": "stream",
          "name": "stdout",
          "text": [
            "\n",
            "Resumo das colunas:\n",
            "<class 'pandas.core.frame.DataFrame'>\n",
            "RangeIndex: 891 entries, 0 to 890\n",
            "Data columns (total 15 columns):\n",
            " #   Column       Non-Null Count  Dtype   \n",
            "---  ------       --------------  -----   \n",
            " 0   survived     891 non-null    int64   \n",
            " 1   pclass       891 non-null    int64   \n",
            " 2   sex          891 non-null    object  \n",
            " 3   age          714 non-null    float64 \n",
            " 4   sibsp        891 non-null    int64   \n",
            " 5   parch        891 non-null    int64   \n",
            " 6   fare         891 non-null    float64 \n",
            " 7   embarked     889 non-null    object  \n",
            " 8   class        891 non-null    category\n",
            " 9   who          891 non-null    object  \n",
            " 10  adult_male   891 non-null    bool    \n",
            " 11  deck         203 non-null    category\n",
            " 12  embark_town  889 non-null    object  \n",
            " 13  alive        891 non-null    object  \n",
            " 14  alone        891 non-null    bool    \n",
            "dtypes: bool(2), category(2), float64(2), int64(4), object(5)\n",
            "memory usage: 80.7+ KB\n",
            "None\n"
          ]
        }
      ]
    },
    {
      "cell_type": "code",
      "source": [
        "# Descrição de cada coluna. Esta estrutura de dados e um dicionario\n",
        "column_descriptions = {\n",
        "    \"survived\": \"Indica se o passageiro sobreviveu (1) ou não (0).\",\n",
        "    \"pclass\": \"Classe do bilhete do passageiro (1 = 1ª classe, 2 = 2ª classe, 3 = 3ª classe).\",\n",
        "    \"sex\": \"Gênero do passageiro (male = masculino, female = feminino).\",\n",
        "    \"age\": \"Idade do passageiro em anos.\",\n",
        "    \"sibsp\": \"Número de irmãos/cônjuges a bordo do Titanic.\",\n",
        "    \"parch\": \"Número de pais/filhos a bordo do Titanic.\",\n",
        "    \"fare\": \"Tarifa paga pelo bilhete.\",\n",
        "    \"embarked\": \"Porto de embarque (C = Cherbourg; Q = Queenstown; S = Southampton).\",\n",
        "    \"class\": \"Classe do bilhete do passageiro em formato categórico (First, Second, Third).\",\n",
        "    \"who\": \"Descrição da pessoa (man = homem, woman = mulher, child = criança).\",\n",
        "    \"adult_male\": \"Indica se a pessoa é um homem adulto (True) ou não (False).\",\n",
        "    \"deck\": \"Deck em que estava a cabine do passageiro (A, B, C, D, E, F, G, U = desconhecido).\",\n",
        "    \"embark_town\": \"Cidade de embarque do passageiro (Cherbourg, Queenstown, Southampton).\",\n",
        "    \"alive\": \"Indica se o passageiro sobreviveu (yes) ou não (no).\",\n",
        "    \"alone\": \"Indica se o passageiro estava sozinho (True) ou não (False).\"\n",
        "}\n",
        "\n",
        "# Exibir a descrição das colunas\n",
        "for column, description in column_descriptions.items():\n",
        "    print(f\"{column}: {description}\")"
      ],
      "metadata": {
        "colab": {
          "base_uri": "https://localhost:8080/"
        },
        "id": "755uN7PFKFqt",
        "outputId": "83c45b9a-7452-412f-8c65-d21b00e0fe12"
      },
      "execution_count": null,
      "outputs": [
        {
          "output_type": "stream",
          "name": "stdout",
          "text": [
            "survived: Indica se o passageiro sobreviveu (1) ou não (0).\n",
            "pclass: Classe do bilhete do passageiro (1 = 1ª classe, 2 = 2ª classe, 3 = 3ª classe).\n",
            "sex: Gênero do passageiro (male = masculino, female = feminino).\n",
            "age: Idade do passageiro em anos.\n",
            "sibsp: Número de irmãos/cônjuges a bordo do Titanic.\n",
            "parch: Número de pais/filhos a bordo do Titanic.\n",
            "fare: Tarifa paga pelo bilhete.\n",
            "embarked: Porto de embarque (C = Cherbourg; Q = Queenstown; S = Southampton).\n",
            "class: Classe do bilhete do passageiro em formato categórico (First, Second, Third).\n",
            "who: Descrição da pessoa (man = homem, woman = mulher, child = criança).\n",
            "adult_male: Indica se a pessoa é um homem adulto (True) ou não (False).\n",
            "deck: Deck em que estava a cabine do passageiro (A, B, C, D, E, F, G, U = desconhecido).\n",
            "embark_town: Cidade de embarque do passageiro (Cherbourg, Queenstown, Southampton).\n",
            "alive: Indica se o passageiro sobreviveu (yes) ou não (no).\n",
            "alone: Indica se o passageiro estava sozinho (True) ou não (False).\n"
          ]
        }
      ]
    },
    {
      "cell_type": "code",
      "source": [
        "# Visualizar as primeiras linhas do conjunto de dados\n",
        "print(titanic.head())"
      ],
      "metadata": {
        "colab": {
          "base_uri": "https://localhost:8080/"
        },
        "id": "Lh1iXEoqKV3X",
        "outputId": "18724e4b-0c64-44ce-f23f-dee556aa6758"
      },
      "execution_count": null,
      "outputs": [
        {
          "output_type": "stream",
          "name": "stdout",
          "text": [
            "   survived  pclass     sex   age  sibsp  parch     fare embarked  class  \\\n",
            "0         0       3    male  22.0      1      0   7.2500        S  Third   \n",
            "1         1       1  female  38.0      1      0  71.2833        C  First   \n",
            "2         1       3  female  26.0      0      0   7.9250        S  Third   \n",
            "3         1       1  female  35.0      1      0  53.1000        S  First   \n",
            "4         0       3    male  35.0      0      0   8.0500        S  Third   \n",
            "\n",
            "     who  adult_male deck  embark_town alive  alone  \n",
            "0    man        True  NaN  Southampton    no  False  \n",
            "1  woman       False    C    Cherbourg   yes  False  \n",
            "2  woman       False  NaN  Southampton   yes   True  \n",
            "3  woman       False    C  Southampton   yes  False  \n",
            "4    man        True  NaN  Southampton    no   True  \n"
          ]
        }
      ]
    },
    {
      "cell_type": "code",
      "source": [
        "# Definir o nome do arquivo\n",
        "file_name = 'titanic.csv'"
      ],
      "metadata": {
        "id": "U0M8xhCyK3Og"
      },
      "execution_count": null,
      "outputs": []
    },
    {
      "cell_type": "code",
      "source": [
        "# Exportar o DataFrame para um arquivo CSV\n",
        "titanic.to_csv(file_name, index=False)"
      ],
      "metadata": {
        "id": "LR2zo8fGK4yi"
      },
      "execution_count": null,
      "outputs": []
    },
    {
      "cell_type": "code",
      "source": [
        "# Mensagem que o arquivo foi gerado\n",
        "print(f\"Conjunto de dados salvo como '{file_name}'\")"
      ],
      "metadata": {
        "colab": {
          "base_uri": "https://localhost:8080/"
        },
        "id": "mYy8N1ZqK743",
        "outputId": "8d7eb113-ba18-46ac-c6a3-ed1b30efe288"
      },
      "execution_count": null,
      "outputs": [
        {
          "output_type": "stream",
          "name": "stdout",
          "text": [
            "Conjunto de dados salvo como 'titanic.csv'\n"
          ]
        }
      ]
    },
    {
      "cell_type": "code",
      "source": [
        "# Baixar o arquivo CSV para o computador local\n",
        "files.download(file_name)"
      ],
      "metadata": {
        "colab": {
          "base_uri": "https://localhost:8080/",
          "height": 17
        },
        "id": "Y36yZqOoK--e",
        "outputId": "6aed837c-73eb-488b-9221-f931606eb7df"
      },
      "execution_count": null,
      "outputs": [
        {
          "output_type": "display_data",
          "data": {
            "text/plain": [
              "<IPython.core.display.Javascript object>"
            ],
            "application/javascript": [
              "\n",
              "    async function download(id, filename, size) {\n",
              "      if (!google.colab.kernel.accessAllowed) {\n",
              "        return;\n",
              "      }\n",
              "      const div = document.createElement('div');\n",
              "      const label = document.createElement('label');\n",
              "      label.textContent = `Downloading \"${filename}\": `;\n",
              "      div.appendChild(label);\n",
              "      const progress = document.createElement('progress');\n",
              "      progress.max = size;\n",
              "      div.appendChild(progress);\n",
              "      document.body.appendChild(div);\n",
              "\n",
              "      const buffers = [];\n",
              "      let downloaded = 0;\n",
              "\n",
              "      const channel = await google.colab.kernel.comms.open(id);\n",
              "      // Send a message to notify the kernel that we're ready.\n",
              "      channel.send({})\n",
              "\n",
              "      for await (const message of channel.messages) {\n",
              "        // Send a message to notify the kernel that we're ready.\n",
              "        channel.send({})\n",
              "        if (message.buffers) {\n",
              "          for (const buffer of message.buffers) {\n",
              "            buffers.push(buffer);\n",
              "            downloaded += buffer.byteLength;\n",
              "            progress.value = downloaded;\n",
              "          }\n",
              "        }\n",
              "      }\n",
              "      const blob = new Blob(buffers, {type: 'application/binary'});\n",
              "      const a = document.createElement('a');\n",
              "      a.href = window.URL.createObjectURL(blob);\n",
              "      a.download = filename;\n",
              "      div.appendChild(a);\n",
              "      a.click();\n",
              "      div.remove();\n",
              "    }\n",
              "  "
            ]
          },
          "metadata": {}
        },
        {
          "output_type": "display_data",
          "data": {
            "text/plain": [
              "<IPython.core.display.Javascript object>"
            ],
            "application/javascript": [
              "download(\"download_cd2e698c-070a-4ff0-b2f6-0ed07bed71f6\", \"titanic.csv\", 57018)"
            ]
          },
          "metadata": {}
        }
      ]
    },
    {
      "cell_type": "code",
      "source": [
        "# Verificar valores ausentes\n",
        "print(titanic.isnull().sum())"
      ],
      "metadata": {
        "colab": {
          "base_uri": "https://localhost:8080/"
        },
        "id": "ic--fyM6Tg9D",
        "outputId": "3b2f5f62-168b-45de-ab33-34c90125ffd9"
      },
      "execution_count": null,
      "outputs": [
        {
          "output_type": "stream",
          "name": "stdout",
          "text": [
            "survived         0\n",
            "pclass           0\n",
            "sex              0\n",
            "age            177\n",
            "sibsp            0\n",
            "parch            0\n",
            "fare             0\n",
            "embarked         2\n",
            "class            0\n",
            "who              0\n",
            "adult_male       0\n",
            "deck           688\n",
            "embark_town      2\n",
            "alive            0\n",
            "alone            0\n",
            "dtype: int64\n"
          ]
        }
      ]
    },
    {
      "cell_type": "code",
      "source": [
        "# Resumo dos valores ausentes por coluna\n",
        "missing_values = titanic.isnull().sum()\n",
        "print(missing_values[missing_values > 0])"
      ],
      "metadata": {
        "colab": {
          "base_uri": "https://localhost:8080/"
        },
        "id": "uDH87hhXTnvV",
        "outputId": "7d45bcec-3f24-43ec-dd0f-22bcf9e3e286"
      },
      "execution_count": null,
      "outputs": [
        {
          "output_type": "stream",
          "name": "stdout",
          "text": [
            "age            177\n",
            "embarked         2\n",
            "deck           688\n",
            "embark_town      2\n",
            "dtype: int64\n"
          ]
        }
      ]
    },
    {
      "cell_type": "code",
      "source": [
        "# Selecionar apenas as colunas numéricas para o KNNImputer\n",
        "titanic_numeric = titanic.select_dtypes(include=['float64', 'int64'])"
      ],
      "metadata": {
        "id": "ZQiLsuGOTsAY"
      },
      "execution_count": null,
      "outputs": []
    },
    {
      "cell_type": "code",
      "source": [
        "# Inicializar o KNNImputer\n",
        "imputer = KNNImputer(n_neighbors=5)"
      ],
      "metadata": {
        "id": "-cuG3vdoTxio"
      },
      "execution_count": null,
      "outputs": []
    },
    {
      "cell_type": "code",
      "source": [
        "# Aplicar o KNNImputer\n",
        "titanic_imputed = pd.DataFrame(imputer.fit_transform(titanic_numeric), columns=titanic_numeric.columns)"
      ],
      "metadata": {
        "id": "D7CL1cgPTx1s"
      },
      "execution_count": null,
      "outputs": []
    },
    {
      "cell_type": "code",
      "source": [
        "# Verificar se os valores ausentes foram preenchidos\n",
        "print(titanic_imputed.isnull().sum())"
      ],
      "metadata": {
        "colab": {
          "base_uri": "https://localhost:8080/"
        },
        "id": "EKx5mEgITyJ3",
        "outputId": "f806964e-f05b-47eb-e955-d4daf651d1c3"
      },
      "execution_count": null,
      "outputs": [
        {
          "output_type": "stream",
          "name": "stdout",
          "text": [
            "survived    0\n",
            "pclass      0\n",
            "age         0\n",
            "sibsp       0\n",
            "parch       0\n",
            "fare        0\n",
            "dtype: int64\n"
          ]
        }
      ]
    },
    {
      "cell_type": "code",
      "source": [
        "# Comparar os dados originais com valores ausentes preenchidos\n",
        "print(\"Valores ausentes antes da imputação:\\n\", titanic.isnull().sum())\n",
        "print(\"Valores ausentes após a imputação:\\n\", titanic_imputed.isnull().sum()) #somente os valores numericos sao exibidos\n"
      ],
      "metadata": {
        "colab": {
          "base_uri": "https://localhost:8080/"
        },
        "id": "U5tsBOvjTyb2",
        "outputId": "aa50820e-27c2-43b6-9d1a-2638c0ad089a"
      },
      "execution_count": null,
      "outputs": [
        {
          "output_type": "stream",
          "name": "stdout",
          "text": [
            "Valores ausentes antes da imputação:\n",
            " survived         0\n",
            "pclass           0\n",
            "sex              0\n",
            "age            177\n",
            "sibsp            0\n",
            "parch            0\n",
            "fare             0\n",
            "embarked         2\n",
            "class            0\n",
            "who              0\n",
            "adult_male       0\n",
            "deck           688\n",
            "embark_town      2\n",
            "alive            0\n",
            "alone            0\n",
            "dtype: int64\n",
            "Valores ausentes após a imputação:\n",
            " survived    0\n",
            "pclass      0\n",
            "age         0\n",
            "sibsp       0\n",
            "parch       0\n",
            "fare        0\n",
            "dtype: int64\n"
          ]
        }
      ]
    },
    {
      "cell_type": "code",
      "source": [
        "# Definir o nome do arquivo\n",
        "file_name = 'titanic_imputed.csv'"
      ],
      "metadata": {
        "id": "z31IU9rkUC3O"
      },
      "execution_count": null,
      "outputs": []
    },
    {
      "cell_type": "code",
      "source": [
        "# Exportar o DataFrame para um arquivo CSV\n",
        "titanic_imputed.to_csv(file_name, index=False)"
      ],
      "metadata": {
        "id": "ngEkSV6qUDJH"
      },
      "execution_count": null,
      "outputs": []
    },
    {
      "cell_type": "code",
      "source": [
        "print(f\"Conjunto de dados salvo como '{file_name}'\")"
      ],
      "metadata": {
        "colab": {
          "base_uri": "https://localhost:8080/"
        },
        "id": "WOKcfN0dUDX0",
        "outputId": "6b03e1b7-71ac-407b-ae4c-62448c5e5ae2"
      },
      "execution_count": null,
      "outputs": [
        {
          "output_type": "stream",
          "name": "stdout",
          "text": [
            "Conjunto de dados salvo como 'titanic_imputed.csv'\n"
          ]
        }
      ]
    },
    {
      "cell_type": "code",
      "source": [
        "# Baixar o arquivo CSV para o computador local\n",
        "files.download(file_name)"
      ],
      "metadata": {
        "colab": {
          "base_uri": "https://localhost:8080/",
          "height": 17
        },
        "id": "pWP-3wglUDmk",
        "outputId": "0f75483a-63be-413d-b77a-eaabbd6d37be"
      },
      "execution_count": null,
      "outputs": [
        {
          "output_type": "display_data",
          "data": {
            "text/plain": [
              "<IPython.core.display.Javascript object>"
            ],
            "application/javascript": [
              "\n",
              "    async function download(id, filename, size) {\n",
              "      if (!google.colab.kernel.accessAllowed) {\n",
              "        return;\n",
              "      }\n",
              "      const div = document.createElement('div');\n",
              "      const label = document.createElement('label');\n",
              "      label.textContent = `Downloading \"${filename}\": `;\n",
              "      div.appendChild(label);\n",
              "      const progress = document.createElement('progress');\n",
              "      progress.max = size;\n",
              "      div.appendChild(progress);\n",
              "      document.body.appendChild(div);\n",
              "\n",
              "      const buffers = [];\n",
              "      let downloaded = 0;\n",
              "\n",
              "      const channel = await google.colab.kernel.comms.open(id);\n",
              "      // Send a message to notify the kernel that we're ready.\n",
              "      channel.send({})\n",
              "\n",
              "      for await (const message of channel.messages) {\n",
              "        // Send a message to notify the kernel that we're ready.\n",
              "        channel.send({})\n",
              "        if (message.buffers) {\n",
              "          for (const buffer of message.buffers) {\n",
              "            buffers.push(buffer);\n",
              "            downloaded += buffer.byteLength;\n",
              "            progress.value = downloaded;\n",
              "          }\n",
              "        }\n",
              "      }\n",
              "      const blob = new Blob(buffers, {type: 'application/binary'});\n",
              "      const a = document.createElement('a');\n",
              "      a.href = window.URL.createObjectURL(blob);\n",
              "      a.download = filename;\n",
              "      div.appendChild(a);\n",
              "      a.click();\n",
              "      div.remove();\n",
              "    }\n",
              "  "
            ]
          },
          "metadata": {}
        },
        {
          "output_type": "display_data",
          "data": {
            "text/plain": [
              "<IPython.core.display.Javascript object>"
            ],
            "application/javascript": [
              "download(\"download_d51a02d0-2dfb-4458-bce0-cc415318ae08\", \"titanic_imputed.csv\", 24146)"
            ]
          },
          "metadata": {}
        }
      ]
    },
    {
      "cell_type": "markdown",
      "source": [
        "# Nova seção"
      ],
      "metadata": {
        "id": "u6jrqDAXMb1q"
      }
    }
  ]
}