{
  "nbformat": 4,
  "nbformat_minor": 0,
  "metadata": {
    "colab": {
      "provenance": [],
      "authorship_tag": "ABX9TyMPHuf6m1xZGRgeq7ua26T4",
      "include_colab_link": true
    },
    "kernelspec": {
      "name": "python3",
      "display_name": "Python 3"
    },
    "language_info": {
      "name": "python"
    }
  },
  "cells": [
    {
      "cell_type": "markdown",
      "metadata": {
        "id": "view-in-github",
        "colab_type": "text"
      },
      "source": [
        "<a href=\"https://colab.research.google.com/github/alra-code/Modelando-Datasets-Ricos-com-IA/blob/main/ex_07_processamento_linguagem_natural_ipynb.ipynb\" target=\"_parent\"><img src=\"https://colab.research.google.com/assets/colab-badge.svg\" alt=\"Open In Colab\"/></a>"
      ]
    },
    {
      "cell_type": "code",
      "execution_count": 1,
      "metadata": {
        "colab": {
          "base_uri": "https://localhost:8080/"
        },
        "id": "k-gTBF--seqw",
        "outputId": "35d80eac-d0c4-4222-919c-a5c582968968"
      },
      "outputs": [
        {
          "output_type": "stream",
          "name": "stdout",
          "text": [
            "Dados carregados:\n",
            "                                              review\n",
            "0                 This product is great! I loved it.\n",
            "1  Terrible customer service. I am very disappoin...\n",
            "2      The quality is fantastic. Highly recommended!\n",
            "3            Not worth the money. Very poor quality.\n",
            "4       I am extremely satisfied with this purchase.\n"
          ]
        }
      ],
      "source": [
        "import pandas as pd\n",
        "# Criação de um DataFrame fictício com análises de produtos\n",
        "data = {\n",
        "    'review': [\n",
        "        'This product is great! I loved it.',\n",
        "        'Terrible customer service. I am very disappointed.',\n",
        "        'The quality is fantastic. Highly recommended!',\n",
        "        'Not worth the money. Very poor quality.',\n",
        "        'I am extremely satisfied with this purchase.'\n",
        "    ]\n",
        "}\n",
        "\n",
        "df = pd.DataFrame(data)\n",
        "print(\"Dados carregados:\")\n",
        "print(df)"
      ]
    },
    {
      "cell_type": "code",
      "source": [
        "import nltk # é uma das bibliotecas mais populares e poderosas para processamento de linguagem natural (NLP) em Python\n",
        "from nltk.corpus import stopwords # módulo do nlkt que contém uma lista de palavras comuns que geralmente são removidas durante o pré-processamento de texto em tarefas de NLP\n",
        "from nltk.tokenize import word_tokenize # módulo do nlkt que é usada para dividir um texto em palavras individuais (tokens)\n",
        "from nltk.stem import WordNetLemmatizer # módulo do nlkt que é usada para reduzir palavras à sua forma base ou raiz (lemmas)\n",
        "import string # contém diversas constantes e classes úteis para manipulação de strings\n",
        "\n",
        "nltk.download('punkt')\n",
        "nltk.download('stopwords')\n",
        "nltk.download('wordnet')\n",
        "\n",
        "def preprocess_text(text):\n",
        "    # Converter o texto para minúsculas\n",
        "    text = text.lower()\n",
        "    # Remover pontuações\n",
        "    text = text.translate(str.maketrans('', '', string.punctuation))\n",
        "    # Tokenizar o texto\n",
        "    tokens = word_tokenize(text)\n",
        "    # Remover stopwords\n",
        "    tokens = [word for word in tokens if word not in stopwords.words('english')]\n",
        "    # Lematizar as palavras\n",
        "    lemmatizer = WordNetLemmatizer()\n",
        "    tokens = [lemmatizer.lemmatize(word) for word in tokens]\n",
        "    # Juntar as palavras de volta em uma string\n",
        "    text = ' '.join(tokens)\n",
        "    return text\n",
        "\n",
        "# Aplicar a função de pré-processamento\n",
        "df['cleaned_review'] = df['review'].apply(preprocess_text)\n",
        "print(\"\\nTextos pré-processados:\")\n",
        "print(df['cleaned_review'])\n",
        ""
      ],
      "metadata": {
        "colab": {
          "base_uri": "https://localhost:8080/"
        },
        "id": "t2a4lOwrswz1",
        "outputId": "54d92569-36b2-4823-fe8e-751853d84d67"
      },
      "execution_count": 2,
      "outputs": [
        {
          "output_type": "stream",
          "name": "stderr",
          "text": [
            "[nltk_data] Downloading package punkt to /root/nltk_data...\n",
            "[nltk_data]   Unzipping tokenizers/punkt.zip.\n",
            "[nltk_data] Downloading package stopwords to /root/nltk_data...\n",
            "[nltk_data]   Unzipping corpora/stopwords.zip.\n",
            "[nltk_data] Downloading package wordnet to /root/nltk_data...\n"
          ]
        },
        {
          "output_type": "stream",
          "name": "stdout",
          "text": [
            "\n",
            "Textos pré-processados:\n",
            "0                       product great loved\n",
            "1    terrible customer service disappointed\n",
            "2      quality fantastic highly recommended\n",
            "3                  worth money poor quality\n",
            "4              extremely satisfied purchase\n",
            "Name: cleaned_review, dtype: object\n"
          ]
        }
      ]
    },
    {
      "cell_type": "code",
      "source": [
        "from textblob import TextBlob # fornece uma API simples para tarefas comuns de NLP, como análise de sentimentos, tradução, correção gramatical, tokenização, e muito mais\n",
        "def classify_sentiment(text):\n",
        "    analysis = TextBlob(text)\n",
        "    # Classificar como positivo, negativo ou neutro\n",
        "    if analysis.sentiment.polarity > 0:\n",
        "        return 'Positive'\n",
        "    elif analysis.sentiment.polarity < 0:\n",
        "        return 'Negative'\n",
        "    else:\n",
        "        return 'Neutral'\n",
        "\n",
        "# Aplicar a função de classificação de sentimentos\n",
        "df['sentiment'] = df['cleaned_review'].apply(classify_sentiment)\n",
        "print(\"\\nClassificação de sentimentos:\")\n",
        "print(df[['review', 'sentiment']])\n",
        ""
      ],
      "metadata": {
        "colab": {
          "base_uri": "https://localhost:8080/"
        },
        "id": "fREdfqofs91P",
        "outputId": "bf7f02cd-9856-4858-ca00-c68275aed487"
      },
      "execution_count": 3,
      "outputs": [
        {
          "output_type": "stream",
          "name": "stdout",
          "text": [
            "\n",
            "Classificação de sentimentos:\n",
            "                                              review sentiment\n",
            "0                 This product is great! I loved it.  Positive\n",
            "1  Terrible customer service. I am very disappoin...  Negative\n",
            "2      The quality is fantastic. Highly recommended!  Positive\n",
            "3            Not worth the money. Very poor quality.  Negative\n",
            "4       I am extremely satisfied with this purchase.  Positive\n"
          ]
        }
      ]
    },
    {
      "cell_type": "code",
      "source": [
        "from collections import Counter # módulo do Python que fornece ferramentas para trabalhar com coleções\n",
        "# Contagem de palavras\n",
        "all_words = ' '.join(df['cleaned_review']).split()\n",
        "word_freq = Counter(all_words)\n",
        "print(\"\\nFrequência de palavras:\")\n",
        "print(word_freq.most_common(5))\n",
        "\n",
        "# Contagem de sentimentos\n",
        "sentiment_counts = df['sentiment'].value_counts()\n",
        "print(\"\\nContagem de sentimentos:\")\n",
        "print(sentiment_counts)"
      ],
      "metadata": {
        "colab": {
          "base_uri": "https://localhost:8080/"
        },
        "id": "e6YTN_rus-AK",
        "outputId": "fb98a65f-efbe-417a-c6b6-e90bc853bddc"
      },
      "execution_count": 4,
      "outputs": [
        {
          "output_type": "stream",
          "name": "stdout",
          "text": [
            "\n",
            "Frequência de palavras:\n",
            "[('quality', 2), ('product', 1), ('great', 1), ('loved', 1), ('terrible', 1)]\n",
            "\n",
            "Contagem de sentimentos:\n",
            "sentiment\n",
            "Positive    3\n",
            "Negative    2\n",
            "Name: count, dtype: int64\n"
          ]
        }
      ]
    },
    {
      "cell_type": "code",
      "source": [
        "from sklearn.feature_extraction.text import TfidfVectorizer # módulo do scikit-learn que é usado para extrair recursos de texto\n",
        "# Transformar textos em uma representação vetorial TF-IDF\n",
        "vectorizer = TfidfVectorizer()\n",
        "X = vectorizer.fit_transform(df['cleaned_review'])\n",
        "\n",
        "# Mostrar a matriz TF-IDF\n",
        "tfidf_df = pd.DataFrame(X.toarray(), columns=vectorizer.get_feature_names_out())\n",
        "print(\"\\nMatriz TF-IDF:\")\n",
        "print(tfidf_df)"
      ],
      "metadata": {
        "colab": {
          "base_uri": "https://localhost:8080/"
        },
        "id": "anD8FkIKs-I4",
        "outputId": "c1bc7f53-6e0e-4438-a08c-e19f78ed6d14"
      },
      "execution_count": 5,
      "outputs": [
        {
          "output_type": "stream",
          "name": "stdout",
          "text": [
            "\n",
            "Matriz TF-IDF:\n",
            "   customer  disappointed  extremely  fantastic    great    highly    loved  \\\n",
            "0       0.0           0.0    0.00000   0.000000  0.57735  0.000000  0.57735   \n",
            "1       0.5           0.5    0.00000   0.000000  0.00000  0.000000  0.00000   \n",
            "2       0.0           0.0    0.00000   0.523358  0.00000  0.523358  0.00000   \n",
            "3       0.0           0.0    0.00000   0.000000  0.00000  0.000000  0.00000   \n",
            "4       0.0           0.0    0.57735   0.000000  0.00000  0.000000  0.00000   \n",
            "\n",
            "      money      poor  product  purchase   quality  recommended  satisfied  \\\n",
            "0  0.000000  0.000000  0.57735   0.00000  0.000000     0.000000    0.00000   \n",
            "1  0.000000  0.000000  0.00000   0.00000  0.000000     0.000000    0.00000   \n",
            "2  0.000000  0.000000  0.00000   0.00000  0.422242     0.523358    0.00000   \n",
            "3  0.523358  0.523358  0.00000   0.00000  0.422242     0.000000    0.00000   \n",
            "4  0.000000  0.000000  0.00000   0.57735  0.000000     0.000000    0.57735   \n",
            "\n",
            "   service  terrible     worth  \n",
            "0      0.0       0.0  0.000000  \n",
            "1      0.5       0.5  0.000000  \n",
            "2      0.0       0.0  0.000000  \n",
            "3      0.0       0.0  0.523358  \n",
            "4      0.0       0.0  0.000000  \n"
          ]
        }
      ]
    },
    {
      "cell_type": "code",
      "source": [
        "from google.colab import files\n",
        "# Salvar o DataFrame como um arquivo CSV\n",
        "tfidf_df.to_csv('matriz-tf-idf.csv', index=True)"
      ],
      "metadata": {
        "id": "0TAg_bjqtK0_"
      },
      "execution_count": 6,
      "outputs": []
    },
    {
      "cell_type": "code",
      "source": [
        "# Baixar o arquivo CSV para pasta local\n",
        "files.download('matriz-tf-idf.csv')"
      ],
      "metadata": {
        "colab": {
          "base_uri": "https://localhost:8080/",
          "height": 17
        },
        "id": "0g95JMNqtK9F",
        "outputId": "11b61bd4-40b6-4792-f472-72bc73f37541"
      },
      "execution_count": 7,
      "outputs": [
        {
          "output_type": "display_data",
          "data": {
            "text/plain": [
              "<IPython.core.display.Javascript object>"
            ],
            "application/javascript": [
              "\n",
              "    async function download(id, filename, size) {\n",
              "      if (!google.colab.kernel.accessAllowed) {\n",
              "        return;\n",
              "      }\n",
              "      const div = document.createElement('div');\n",
              "      const label = document.createElement('label');\n",
              "      label.textContent = `Downloading \"${filename}\": `;\n",
              "      div.appendChild(label);\n",
              "      const progress = document.createElement('progress');\n",
              "      progress.max = size;\n",
              "      div.appendChild(progress);\n",
              "      document.body.appendChild(div);\n",
              "\n",
              "      const buffers = [];\n",
              "      let downloaded = 0;\n",
              "\n",
              "      const channel = await google.colab.kernel.comms.open(id);\n",
              "      // Send a message to notify the kernel that we're ready.\n",
              "      channel.send({})\n",
              "\n",
              "      for await (const message of channel.messages) {\n",
              "        // Send a message to notify the kernel that we're ready.\n",
              "        channel.send({})\n",
              "        if (message.buffers) {\n",
              "          for (const buffer of message.buffers) {\n",
              "            buffers.push(buffer);\n",
              "            downloaded += buffer.byteLength;\n",
              "            progress.value = downloaded;\n",
              "          }\n",
              "        }\n",
              "      }\n",
              "      const blob = new Blob(buffers, {type: 'application/binary'});\n",
              "      const a = document.createElement('a');\n",
              "      a.href = window.URL.createObjectURL(blob);\n",
              "      a.download = filename;\n",
              "      div.appendChild(a);\n",
              "      a.click();\n",
              "      div.remove();\n",
              "    }\n",
              "  "
            ]
          },
          "metadata": {}
        },
        {
          "output_type": "display_data",
          "data": {
            "text/plain": [
              "<IPython.core.display.Javascript object>"
            ],
            "application/javascript": [
              "download(\"download_d872a7d5-fd87-41dd-9b09-90a022874822\", \"matriz-tf-idf.csv\", 703)"
            ]
          },
          "metadata": {}
        }
      ]
    }
  ]
}