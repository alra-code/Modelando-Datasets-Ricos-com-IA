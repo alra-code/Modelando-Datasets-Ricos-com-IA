{
  "nbformat": 4,
  "nbformat_minor": 0,
  "metadata": {
    "colab": {
      "provenance": [],
      "authorship_tag": "ABX9TyNNElixSfQnIkHFbjp7V4FO",
      "include_colab_link": true
    },
    "kernelspec": {
      "name": "python3",
      "display_name": "Python 3"
    },
    "language_info": {
      "name": "python"
    }
  },
  "cells": [
    {
      "cell_type": "markdown",
      "metadata": {
        "id": "view-in-github",
        "colab_type": "text"
      },
      "source": [
        "<a href=\"https://colab.research.google.com/github/alra-code/Modelando-Datasets-Ricos-com-IA/blob/main/ex_05_selecao_atributos_ipynb.ipynb\" target=\"_parent\"><img src=\"https://colab.research.google.com/assets/colab-badge.svg\" alt=\"Open In Colab\"/></a>"
      ]
    },
    {
      "cell_type": "code",
      "execution_count": 2,
      "metadata": {
        "id": "BxBX8R76mAle"
      },
      "outputs": [],
      "source": [
        "import pandas as pd\n",
        "import numpy as np\n",
        "import matplotlib.pyplot as plt\n",
        "import os as os\n",
        "from google.colab import files\n",
        "from sklearn.feature_selection import SelectKBest, f_classif\n",
        "from sklearn.model_selection import train_test_split\n",
        "from sklearn.ensemble import RandomForestClassifier\n",
        "from sklearn.metrics import accuracy_score"
      ]
    },
    {
      "cell_type": "code",
      "source": [
        "# Carregar o conjunto de dados Wine Quality (vinho tinto)\n",
        "url = \"https://archive.ics.uci.edu/ml/machine-learning-databases/wine-quality/winequality-red.csv\"\n",
        "df = pd.read_csv(url, sep=';')\n",
        "\n",
        "# Visualizar as primeiras linhas do DataFrame\n",
        "print(\"Primeiras linhas do DataFrame winequality-red:\")\n",
        "print(df.head())\n",
        "\n",
        "# Descrição das colunas\n",
        "column_descriptions = {\n",
        "    'fixed acidity': 'Acidez fixa (g/dm³) - ácidos que não evaporam rapidamente.',\n",
        "    'volatile acidity': 'Acidez volátil (g/dm³) - quantidade de ácidos que evaporam facilmente e podem causar aromas desagradáveis.',\n",
        "    'citric acid': 'Ácido cítrico (g/dm³) - ácido natural encontrado em citrinos, contribui para o frescor e sabor do vinho.',\n",
        "    'residual sugar': 'Açúcar residual (g/dm³) - quantidade de açúcar que sobra após a fermentação, afeta o sabor e a percepção de doçura do vinho.',\n",
        "    'chlorides': 'Cloretos (g/dm³) - quantidade de sal no vinho, que pode afetar o sabor.',\n",
        "    'free sulfur dioxide': 'Dióxido de enxofre livre (mg/dm³) - forma de SO2 que está livre no vinho e pode agir como agente antimicrobiano e antioxidante.',\n",
        "    'total sulfur dioxide': 'Dióxido de enxofre total (mg/dm³) - soma de todas as formas de SO2, tanto livres quanto ligadas.',\n",
        "    'density': 'Densidade (g/cm³) - medida da densidade do vinho, que pode ser influenciada pelo conteúdo de açúcar e álcool.',\n",
        "    'pH': 'pH - medida de acidez ou basicidade do vinho.',\n",
        "    'sulphates': 'Sulfatos (g/dm³) - aditivo que pode contribuir para o sabor e atuar como conservante.',\n",
        "    'alcohol': 'Álcool (% em volume) - teor alcoólico do vinho.',\n",
        "    'quality': 'Qualidade (pontuação entre 0 e 10) - avaliação sensorial da qualidade do vinho, usada como variável alvo.'\n",
        "}\n",
        "\n",
        "print(\"\\nDescrição das colunas:\")\n",
        "for column, description in column_descriptions.items():\n",
        "    print(f\"{column}: {description}\")"
      ],
      "metadata": {
        "colab": {
          "base_uri": "https://localhost:8080/"
        },
        "id": "Qkoyk0T7mE47",
        "outputId": "b6f4823d-2b92-4070-e6fd-47442d9c1b72"
      },
      "execution_count": 3,
      "outputs": [
        {
          "output_type": "stream",
          "name": "stdout",
          "text": [
            "Primeiras linhas do DataFrame winequality-red:\n",
            "   fixed acidity  volatile acidity  citric acid  residual sugar  chlorides  \\\n",
            "0            7.4              0.70         0.00             1.9      0.076   \n",
            "1            7.8              0.88         0.00             2.6      0.098   \n",
            "2            7.8              0.76         0.04             2.3      0.092   \n",
            "3           11.2              0.28         0.56             1.9      0.075   \n",
            "4            7.4              0.70         0.00             1.9      0.076   \n",
            "\n",
            "   free sulfur dioxide  total sulfur dioxide  density    pH  sulphates  \\\n",
            "0                 11.0                  34.0   0.9978  3.51       0.56   \n",
            "1                 25.0                  67.0   0.9968  3.20       0.68   \n",
            "2                 15.0                  54.0   0.9970  3.26       0.65   \n",
            "3                 17.0                  60.0   0.9980  3.16       0.58   \n",
            "4                 11.0                  34.0   0.9978  3.51       0.56   \n",
            "\n",
            "   alcohol  quality  \n",
            "0      9.4        5  \n",
            "1      9.8        5  \n",
            "2      9.8        5  \n",
            "3      9.8        6  \n",
            "4      9.4        5  \n",
            "\n",
            "Descrição das colunas:\n",
            "fixed acidity: Acidez fixa (g/dm³) - ácidos que não evaporam rapidamente.\n",
            "volatile acidity: Acidez volátil (g/dm³) - quantidade de ácidos que evaporam facilmente e podem causar aromas desagradáveis.\n",
            "citric acid: Ácido cítrico (g/dm³) - ácido natural encontrado em citrinos, contribui para o frescor e sabor do vinho.\n",
            "residual sugar: Açúcar residual (g/dm³) - quantidade de açúcar que sobra após a fermentação, afeta o sabor e a percepção de doçura do vinho.\n",
            "chlorides: Cloretos (g/dm³) - quantidade de sal no vinho, que pode afetar o sabor.\n",
            "free sulfur dioxide: Dióxido de enxofre livre (mg/dm³) - forma de SO2 que está livre no vinho e pode agir como agente antimicrobiano e antioxidante.\n",
            "total sulfur dioxide: Dióxido de enxofre total (mg/dm³) - soma de todas as formas de SO2, tanto livres quanto ligadas.\n",
            "density: Densidade (g/cm³) - medida da densidade do vinho, que pode ser influenciada pelo conteúdo de açúcar e álcool.\n",
            "pH: pH - medida de acidez ou basicidade do vinho.\n",
            "sulphates: Sulfatos (g/dm³) - aditivo que pode contribuir para o sabor e atuar como conservante.\n",
            "alcohol: Álcool (% em volume) - teor alcoólico do vinho.\n",
            "quality: Qualidade (pontuação entre 0 e 10) - avaliação sensorial da qualidade do vinho, usada como variável alvo.\n"
          ]
        }
      ]
    },
    {
      "cell_type": "code",
      "source": [
        "# Salvar o DataFrame como um arquivo CSV\n",
        "df.to_csv('winequality-red.csv', index=False)"
      ],
      "metadata": {
        "id": "TtA8j0Q-mFBo"
      },
      "execution_count": 4,
      "outputs": []
    },
    {
      "cell_type": "code",
      "source": [
        "# Baixar o arquivo CSV para pasta local\n",
        "files.download('winequality-red.csv')"
      ],
      "metadata": {
        "colab": {
          "base_uri": "https://localhost:8080/",
          "height": 17
        },
        "id": "veSmESPWmZdn",
        "outputId": "fad34d7f-1811-469d-bbc8-39935f0db51c"
      },
      "execution_count": 5,
      "outputs": [
        {
          "output_type": "display_data",
          "data": {
            "text/plain": [
              "<IPython.core.display.Javascript object>"
            ],
            "application/javascript": [
              "\n",
              "    async function download(id, filename, size) {\n",
              "      if (!google.colab.kernel.accessAllowed) {\n",
              "        return;\n",
              "      }\n",
              "      const div = document.createElement('div');\n",
              "      const label = document.createElement('label');\n",
              "      label.textContent = `Downloading \"${filename}\": `;\n",
              "      div.appendChild(label);\n",
              "      const progress = document.createElement('progress');\n",
              "      progress.max = size;\n",
              "      div.appendChild(progress);\n",
              "      document.body.appendChild(div);\n",
              "\n",
              "      const buffers = [];\n",
              "      let downloaded = 0;\n",
              "\n",
              "      const channel = await google.colab.kernel.comms.open(id);\n",
              "      // Send a message to notify the kernel that we're ready.\n",
              "      channel.send({})\n",
              "\n",
              "      for await (const message of channel.messages) {\n",
              "        // Send a message to notify the kernel that we're ready.\n",
              "        channel.send({})\n",
              "        if (message.buffers) {\n",
              "          for (const buffer of message.buffers) {\n",
              "            buffers.push(buffer);\n",
              "            downloaded += buffer.byteLength;\n",
              "            progress.value = downloaded;\n",
              "          }\n",
              "        }\n",
              "      }\n",
              "      const blob = new Blob(buffers, {type: 'application/binary'});\n",
              "      const a = document.createElement('a');\n",
              "      a.href = window.URL.createObjectURL(blob);\n",
              "      a.download = filename;\n",
              "      div.appendChild(a);\n",
              "      a.click();\n",
              "      div.remove();\n",
              "    }\n",
              "  "
            ]
          },
          "metadata": {}
        },
        {
          "output_type": "display_data",
          "data": {
            "text/plain": [
              "<IPython.core.display.Javascript object>"
            ],
            "application/javascript": [
              "download(\"download_943f0ac8-0d9c-49ff-b633-1a6df4884da0\", \"winequality-red.csv\", 91999)"
            ]
          },
          "metadata": {}
        }
      ]
    },
    {
      "cell_type": "code",
      "source": [
        "# Separar as features e o target\n",
        "X = df.drop(columns=['quality'])\n",
        "y = df['quality']\n",
        "print(X.shape, y.shape)"
      ],
      "metadata": {
        "colab": {
          "base_uri": "https://localhost:8080/"
        },
        "id": "B0q_kfyUmf_G",
        "outputId": "34b4119d-64ed-4251-8f15-0a6c3ec30954"
      },
      "execution_count": 6,
      "outputs": [
        {
          "output_type": "stream",
          "name": "stdout",
          "text": [
            "(1599, 11) (1599,)\n"
          ]
        }
      ]
    },
    {
      "cell_type": "code",
      "source": [
        "# Dividir o conjunto de dados em treinamento e teste\n",
        "X_train, X_test, y_train, y_test = train_test_split(X, y, test_size=0.3, random_state=42)\n",
        "\n",
        "# Visualizar o shape dos dados\n",
        "print(X_train.shape, X_test.shape, y_train.shape, y_test.shape)"
      ],
      "metadata": {
        "colab": {
          "base_uri": "https://localhost:8080/"
        },
        "id": "ZenE1H4Xmimd",
        "outputId": "0ecc2dfe-3362-43fa-ed57-0fbc3e6dd2f3"
      },
      "execution_count": 7,
      "outputs": [
        {
          "output_type": "stream",
          "name": "stdout",
          "text": [
            "(1119, 11) (480, 11) (1119,) (480,)\n"
          ]
        }
      ]
    },
    {
      "cell_type": "code",
      "source": [
        "# Selecionar os 5 melhores atributos\n",
        "selector = SelectKBest(score_func=f_classif, k=5)\n",
        "X_train_selected = selector.fit_transform(X_train, y_train)\n",
        "X_test_selected = selector.transform(X_test)\n",
        "print(\"Scores dos atributos:\", selector.scores_)\n",
        "selected_features = X.columns[selector.get_support()]\n",
        "print(\"Atributos selecionados:\", selected_features)"
      ],
      "metadata": {
        "colab": {
          "base_uri": "https://localhost:8080/"
        },
        "id": "LEdUMF_Amium",
        "outputId": "6acb5de0-022b-4f77-dcf0-34a626f20af7"
      },
      "execution_count": 8,
      "outputs": [
        {
          "output_type": "stream",
          "name": "stdout",
          "text": [
            "Scores dos atributos: [ 3.037159   41.06954181 10.55710335  0.93466388  4.31802563  2.9186981\n",
            " 19.75596243 11.19979797  2.55313198 14.77201409 88.53897644]\n",
            "Atributos selecionados: Index(['volatile acidity', 'total sulfur dioxide', 'density', 'sulphates',\n",
            "       'alcohol'],\n",
            "      dtype='object')\n"
          ]
        }
      ]
    },
    {
      "cell_type": "code",
      "source": [
        "# Treinar o modelo com todos os atributos\n",
        "model = RandomForestClassifier(random_state=42)\n",
        "model.fit(X_train, y_train)\n",
        "y_pred = model.predict(X_test)\n",
        "accuracy = accuracy_score(y_test, y_pred)\n",
        "print(\"Acurácia com todos os atributos:\", accuracy)"
      ],
      "metadata": {
        "colab": {
          "base_uri": "https://localhost:8080/"
        },
        "id": "q1gDg0pbmoBG",
        "outputId": "6dd96e00-190e-4042-ba64-4712e5f37b73"
      },
      "execution_count": 9,
      "outputs": [
        {
          "output_type": "stream",
          "name": "stdout",
          "text": [
            "Acurácia com todos os atributos: 0.6541666666666667\n"
          ]
        }
      ]
    },
    {
      "cell_type": "code",
      "source": [
        "# Treinar o modelo com os atributos selecionados\n",
        "model.fit(X_train_selected, y_train)\n",
        "y_pred_selected = model.predict(X_test_selected)\n",
        "accuracy_selected = accuracy_score(y_test, y_pred_selected)\n",
        "print(\"Acurácia com atributos selecionados:\", accuracy_selected)\n",
        ""
      ],
      "metadata": {
        "colab": {
          "base_uri": "https://localhost:8080/"
        },
        "id": "8s7otduvmoU4",
        "outputId": "2b3667e1-ab1a-4f14-ffbf-f547b72d9a46"
      },
      "execution_count": 10,
      "outputs": [
        {
          "output_type": "stream",
          "name": "stdout",
          "text": [
            "Acurácia com atributos selecionados: 0.65625\n"
          ]
        }
      ]
    },
    {
      "cell_type": "code",
      "source": [
        "# Definir o número de amostras para o novo conjunto de dados\n",
        "n_samples = 100\n",
        "\n",
        "# Gerar dados sintéticos baseados nas distribuições observadas no conjunto de dados original\n",
        "np.random.seed(42)\n",
        "data = {\n",
        "    'fixed acidity': np.random.normal(loc=8.32, scale=1.74, size=n_samples),\n",
        "    'volatile acidity': np.random.normal(loc=0.53, scale=0.18, size=n_samples),\n",
        "    'citric acid': np.random.normal(loc=0.27, scale=0.19, size=n_samples),\n",
        "    'residual sugar': np.random.normal(loc=2.54, scale=1.41, size=n_samples),\n",
        "    'chlorides': np.random.normal(loc=0.09, scale=0.05, size=n_samples),\n",
        "    'free sulfur dioxide': np.random.normal(loc=15.87, scale=10.46, size=n_samples),\n",
        "    'total sulfur dioxide': np.random.normal(loc=46.47, scale=32.90, size=n_samples),\n",
        "    'density': np.random.normal(loc=0.9967, scale=0.0019, size=n_samples),\n",
        "    'pH': np.random.normal(loc=3.31, scale=0.15, size=n_samples),\n",
        "    'sulphates': np.random.normal(loc=0.66, scale=0.17, size=n_samples),\n",
        "    'alcohol': np.random.normal(loc=10.42, scale=1.07, size=n_samples),\n",
        "    'quality': np.random.randint(3, 9, size=n_samples)  # Qualidade variando de 3 a 8\n",
        "}\n",
        "\n",
        "# Criar um DataFrame com os dados sintéticos\n",
        "df_new = pd.DataFrame(data)\n",
        "\n",
        "# Salvar o novo conjunto de dados como um arquivo CSV\n",
        "df_new.to_csv('new_synthetic_winequality_red.csv', index=False)\n",
        "\n",
        "# Carregar o novo conjunto de dados (simulando a situação)\n",
        "df_new_loaded = pd.read_csv('new_synthetic_winequality_red.csv')\n",
        "\n",
        "print(\"Primeiras linhas do novo DataFrame sintético:\")\n",
        "print(df_new_loaded.head())"
      ],
      "metadata": {
        "colab": {
          "base_uri": "https://localhost:8080/"
        },
        "id": "ayHMXbMAmzA_",
        "outputId": "4bb442c4-80df-4279-9672-2181c7cb150d"
      },
      "execution_count": 11,
      "outputs": [
        {
          "output_type": "stream",
          "name": "stdout",
          "text": [
            "Primeiras linhas do novo DataFrame sintético:\n",
            "   fixed acidity  volatile acidity  citric acid  residual sugar  chlorides  \\\n",
            "0       9.184283          0.275233     0.337980        1.371117   0.010279   \n",
            "1       8.079420          0.454284     0.376549        1.750145   0.060031   \n",
            "2       9.446978          0.468311     0.475780        3.593684   0.090262   \n",
            "3      10.970072          0.385590     0.470222        3.400622   0.092349   \n",
            "4       7.912573          0.500969     0.008243        2.510529   0.067497   \n",
            "\n",
            "   free sulfur dioxide  total sulfur dioxide   density        pH  sulphates  \\\n",
            "0            25.557817             71.374925  0.995707  3.450743   0.722674   \n",
            "1            35.842498             16.130761  0.998693  3.232593   0.593132   \n",
            "2             1.240983             75.080035  0.995362  3.324418   0.664887   \n",
            "3            21.758658             91.070486  0.994024  3.240659   0.877337   \n",
            "4             9.064279             60.072008  0.993742  3.244826   0.692487   \n",
            "\n",
            "     alcohol  quality  \n",
            "0  11.917310        5  \n",
            "1  11.409358        4  \n",
            "2  10.483804        6  \n",
            "3   9.727778        8  \n",
            "4  11.167099        6  \n"
          ]
        }
      ]
    },
    {
      "cell_type": "code",
      "source": [
        "# Contar o número de linhas usando o método .count()\n",
        "num_rows = df_new_loaded.count()[0]\n",
        "print(f\"O número de linhas do DataFrame é: {num_rows}\")"
      ],
      "metadata": {
        "colab": {
          "base_uri": "https://localhost:8080/"
        },
        "id": "tZ4DCnWNm576",
        "outputId": "eced3c9f-9256-41e1-90f6-28ccbdbe7052"
      },
      "execution_count": 12,
      "outputs": [
        {
          "output_type": "stream",
          "name": "stdout",
          "text": [
            "O número de linhas do DataFrame é: 100\n"
          ]
        }
      ]
    },
    {
      "cell_type": "code",
      "source": [
        "# Salvar o DataFrame como um arquivo CSV\n",
        "df_new_loaded.to_csv('new_synthetic_winequality_red.csv', index=False)"
      ],
      "metadata": {
        "id": "-uSr7mFhm8-Q"
      },
      "execution_count": 13,
      "outputs": []
    },
    {
      "cell_type": "code",
      "source": [
        "# Baixar o arquivo CSV para a pasta local\n",
        "files.download('new_synthetic_winequality_red.csv')"
      ],
      "metadata": {
        "colab": {
          "base_uri": "https://localhost:8080/",
          "height": 17
        },
        "id": "UuRc0UJSm9wk",
        "outputId": "316a8fe1-e8bc-42f2-9389-ba835f15910b"
      },
      "execution_count": 14,
      "outputs": [
        {
          "output_type": "display_data",
          "data": {
            "text/plain": [
              "<IPython.core.display.Javascript object>"
            ],
            "application/javascript": [
              "\n",
              "    async function download(id, filename, size) {\n",
              "      if (!google.colab.kernel.accessAllowed) {\n",
              "        return;\n",
              "      }\n",
              "      const div = document.createElement('div');\n",
              "      const label = document.createElement('label');\n",
              "      label.textContent = `Downloading \"${filename}\": `;\n",
              "      div.appendChild(label);\n",
              "      const progress = document.createElement('progress');\n",
              "      progress.max = size;\n",
              "      div.appendChild(progress);\n",
              "      document.body.appendChild(div);\n",
              "\n",
              "      const buffers = [];\n",
              "      let downloaded = 0;\n",
              "\n",
              "      const channel = await google.colab.kernel.comms.open(id);\n",
              "      // Send a message to notify the kernel that we're ready.\n",
              "      channel.send({})\n",
              "\n",
              "      for await (const message of channel.messages) {\n",
              "        // Send a message to notify the kernel that we're ready.\n",
              "        channel.send({})\n",
              "        if (message.buffers) {\n",
              "          for (const buffer of message.buffers) {\n",
              "            buffers.push(buffer);\n",
              "            downloaded += buffer.byteLength;\n",
              "            progress.value = downloaded;\n",
              "          }\n",
              "        }\n",
              "      }\n",
              "      const blob = new Blob(buffers, {type: 'application/binary'});\n",
              "      const a = document.createElement('a');\n",
              "      a.href = window.URL.createObjectURL(blob);\n",
              "      a.download = filename;\n",
              "      div.appendChild(a);\n",
              "      a.click();\n",
              "      div.remove();\n",
              "    }\n",
              "  "
            ]
          },
          "metadata": {}
        },
        {
          "output_type": "display_data",
          "data": {
            "text/plain": [
              "<IPython.core.display.Javascript object>"
            ],
            "application/javascript": [
              "download(\"download_0b8227f6-6ecb-4d5f-89d2-7236a63266e9\", \"new_synthetic_winequality_red.csv\", 20785)"
            ]
          },
          "metadata": {}
        }
      ]
    },
    {
      "cell_type": "code",
      "source": [
        "# Visualizar as primeiras linhas do DataFrame para garantir que foi carregado corretamente\n",
        "print(df.head())"
      ],
      "metadata": {
        "colab": {
          "base_uri": "https://localhost:8080/"
        },
        "id": "oWuOP0cWnV7a",
        "outputId": "791163e6-2ded-4663-c657-4cd2272ed44f"
      },
      "execution_count": 20,
      "outputs": [
        {
          "output_type": "stream",
          "name": "stdout",
          "text": [
            "   fixed acidity  volatile acidity  citric acid  residual sugar  chlorides  \\\n",
            "0            7.4              0.70         0.00             1.9      0.076   \n",
            "1            7.8              0.88         0.00             2.6      0.098   \n",
            "2            7.8              0.76         0.04             2.3      0.092   \n",
            "3           11.2              0.28         0.56             1.9      0.075   \n",
            "4            7.4              0.70         0.00             1.9      0.076   \n",
            "\n",
            "   free sulfur dioxide  total sulfur dioxide  density    pH  sulphates  \\\n",
            "0                 11.0                  34.0   0.9978  3.51       0.56   \n",
            "1                 25.0                  67.0   0.9968  3.20       0.68   \n",
            "2                 15.0                  54.0   0.9970  3.26       0.65   \n",
            "3                 17.0                  60.0   0.9980  3.16       0.58   \n",
            "4                 11.0                  34.0   0.9978  3.51       0.56   \n",
            "\n",
            "   alcohol  quality  \n",
            "0      9.4        5  \n",
            "1      9.8        5  \n",
            "2      9.8        5  \n",
            "3      9.8        6  \n",
            "4      9.4        5  \n"
          ]
        }
      ]
    },
    {
      "cell_type": "code",
      "source": [
        "# Calcular a frequência de cada valor na coluna 'quality' ordenado por ordem crescente de \"quality\"\n",
        "quality_counts = df['quality'].value_counts().sort_index()"
      ],
      "metadata": {
        "id": "uSe5XYLToMUH"
      },
      "execution_count": 21,
      "outputs": []
    },
    {
      "cell_type": "code",
      "source": [
        "# Exibir a frequência\n",
        "print(\"\\nFrequência de cada valor na coluna 'quality':\")\n",
        "print(quality_counts)"
      ],
      "metadata": {
        "colab": {
          "base_uri": "https://localhost:8080/"
        },
        "id": "8akDomo_oPcI",
        "outputId": "86db7d38-73fa-4001-f64c-73938f571f20"
      },
      "execution_count": 22,
      "outputs": [
        {
          "output_type": "stream",
          "name": "stdout",
          "text": [
            "\n",
            "Frequência de cada valor na coluna 'quality':\n",
            "quality\n",
            "3     10\n",
            "4     53\n",
            "5    681\n",
            "6    638\n",
            "7    199\n",
            "8     18\n",
            "Name: count, dtype: int64\n"
          ]
        }
      ]
    },
    {
      "cell_type": "code",
      "source": [
        "# Gerar o histograma para a variável 'quality'\n",
        "plt.figure(figsize=(10, 6))\n",
        "plt.hist(df_read['quality'], bins=11, edgecolor='black', alpha=0.7)\n",
        "plt.title('Dados sintéticos de qualidade de vinhos')\n",
        "plt.xlabel('Qualidade')\n",
        "plt.ylabel('Frequência')\n",
        "plt.grid(axis='y', alpha=0.75)\n",
        "plt.show()"
      ],
      "metadata": {
        "colab": {
          "base_uri": "https://localhost:8080/",
          "height": 228
        },
        "id": "DdcFpShWoXKf",
        "outputId": "b07c0927-9d53-445b-c2a7-7b2098a01a32"
      },
      "execution_count": 23,
      "outputs": [
        {
          "output_type": "error",
          "ename": "NameError",
          "evalue": "name 'df_read' is not defined",
          "traceback": [
            "\u001b[0;31m---------------------------------------------------------------------------\u001b[0m",
            "\u001b[0;31mNameError\u001b[0m                                 Traceback (most recent call last)",
            "\u001b[0;32m<ipython-input-23-1cfc76863674>\u001b[0m in \u001b[0;36m<cell line: 3>\u001b[0;34m()\u001b[0m\n\u001b[1;32m      1\u001b[0m \u001b[0;31m# Gerar o histograma para a variável 'quality'\u001b[0m\u001b[0;34m\u001b[0m\u001b[0;34m\u001b[0m\u001b[0m\n\u001b[1;32m      2\u001b[0m \u001b[0mplt\u001b[0m\u001b[0;34m.\u001b[0m\u001b[0mfigure\u001b[0m\u001b[0;34m(\u001b[0m\u001b[0mfigsize\u001b[0m\u001b[0;34m=\u001b[0m\u001b[0;34m(\u001b[0m\u001b[0;36m10\u001b[0m\u001b[0;34m,\u001b[0m \u001b[0;36m6\u001b[0m\u001b[0;34m)\u001b[0m\u001b[0;34m)\u001b[0m\u001b[0;34m\u001b[0m\u001b[0;34m\u001b[0m\u001b[0m\n\u001b[0;32m----> 3\u001b[0;31m \u001b[0mplt\u001b[0m\u001b[0;34m.\u001b[0m\u001b[0mhist\u001b[0m\u001b[0;34m(\u001b[0m\u001b[0mdf_read\u001b[0m\u001b[0;34m[\u001b[0m\u001b[0;34m'quality'\u001b[0m\u001b[0;34m]\u001b[0m\u001b[0;34m,\u001b[0m \u001b[0mbins\u001b[0m\u001b[0;34m=\u001b[0m\u001b[0;36m11\u001b[0m\u001b[0;34m,\u001b[0m \u001b[0medgecolor\u001b[0m\u001b[0;34m=\u001b[0m\u001b[0;34m'black'\u001b[0m\u001b[0;34m,\u001b[0m \u001b[0malpha\u001b[0m\u001b[0;34m=\u001b[0m\u001b[0;36m0.7\u001b[0m\u001b[0;34m)\u001b[0m\u001b[0;34m\u001b[0m\u001b[0;34m\u001b[0m\u001b[0m\n\u001b[0m\u001b[1;32m      4\u001b[0m \u001b[0mplt\u001b[0m\u001b[0;34m.\u001b[0m\u001b[0mtitle\u001b[0m\u001b[0;34m(\u001b[0m\u001b[0;34m'Dados sintéticos de qualidade de vinhos'\u001b[0m\u001b[0;34m)\u001b[0m\u001b[0;34m\u001b[0m\u001b[0;34m\u001b[0m\u001b[0m\n\u001b[1;32m      5\u001b[0m \u001b[0mplt\u001b[0m\u001b[0;34m.\u001b[0m\u001b[0mxlabel\u001b[0m\u001b[0;34m(\u001b[0m\u001b[0;34m'Qualidade'\u001b[0m\u001b[0;34m)\u001b[0m\u001b[0;34m\u001b[0m\u001b[0;34m\u001b[0m\u001b[0m\n",
            "\u001b[0;31mNameError\u001b[0m: name 'df_read' is not defined"
          ]
        },
        {
          "output_type": "display_data",
          "data": {
            "text/plain": [
              "<Figure size 1000x600 with 0 Axes>"
            ]
          },
          "metadata": {}
        }
      ]
    },
    {
      "cell_type": "code",
      "source": [
        "# devido ao erro acima o resultuda ficou diferente ao do exercício porposto, aqui temos um resultado convexo e no exercício temos um resultado concavo.\n",
        "# Gerar o histograma para a variável 'quality'\n",
        "import matplotlib.pyplot as plt\n",
        "\n",
        "plt.figure(figsize=(10, 6))\n",
        "plt.hist(df['quality'], bins=11, edgecolor='black', alpha=0.7) # Use 'df' instead of 'df_read'\n",
        "plt.title('Dados sintéticos de qualidade de vinhos')\n",
        "plt.xlabel('Qualidade')\n",
        "plt.ylabel('Frequência')\n",
        "plt.grid(axis='y', alpha=0.75)\n",
        "plt.show()"
      ],
      "metadata": {
        "colab": {
          "base_uri": "https://localhost:8080/",
          "height": 565
        },
        "id": "OEUfeqk8oqTz",
        "outputId": "b8b14257-7cf5-4ef9-d395-4068cdd83a1d"
      },
      "execution_count": 25,
      "outputs": [
        {
          "output_type": "display_data",
          "data": {
            "text/plain": [
              "<Figure size 1000x600 with 1 Axes>"
            ],
            "image/png": "[encoded data removed]"
          },
          "metadata": {}
        }
      ]
    },
    {
      "cell_type": "code",
      "source": [
        "# Separar as features da nova base de dados (sem a coluna target)\n",
        "X_new = df_new_loaded.drop(columns=['quality'])"
      ],
      "metadata": {
        "id": "qtNRKx4AplSd"
      },
      "execution_count": 26,
      "outputs": []
    },
    {
      "cell_type": "code",
      "source": [
        "# Imprimir as colunas da nova base de dados\n",
        "print(\"Colunas da nova base de dados (X_new):\")\n",
        "print(X_new.columns)"
      ],
      "metadata": {
        "colab": {
          "base_uri": "https://localhost:8080/"
        },
        "id": "SpHRxkkwplhb",
        "outputId": "9353077a-fede-4a8d-c474-bc680dc9c271"
      },
      "execution_count": 27,
      "outputs": [
        {
          "output_type": "stream",
          "name": "stdout",
          "text": [
            "Colunas da nova base de dados (X_new):\n",
            "Index(['fixed acidity', 'volatile acidity', 'citric acid', 'residual sugar',\n",
            "       'chlorides', 'free sulfur dioxide', 'total sulfur dioxide', 'density',\n",
            "       'pH', 'sulphates', 'alcohol'],\n",
            "      dtype='object')\n"
          ]
        }
      ]
    },
    {
      "cell_type": "code",
      "source": [
        "# Selecionar os mesmos atributos na nova base de dados\n",
        "X_new_selected = selector.transform(X_new)"
      ],
      "metadata": {
        "id": "bq1a76HDplo8"
      },
      "execution_count": 29,
      "outputs": []
    },
    {
      "cell_type": "code",
      "source": [
        "# Fazer previsões com o modelo treinado usando a nova base de dados\n",
        "y_new_pred = model.predict(X_new_selected)"
      ],
      "metadata": {
        "id": "b2KH8dWyplv6"
      },
      "execution_count": 30,
      "outputs": []
    },
    {
      "cell_type": "code",
      "source": [
        "# Adicionar as previsões ao DataFrame da nova base de dados\n",
        "df_new_loaded['predicted_quality'] = y_new_pred"
      ],
      "metadata": {
        "id": "GGZLBe77pujs"
      },
      "execution_count": 31,
      "outputs": []
    },
    {
      "cell_type": "code",
      "source": [
        "# Visualizar as previsões\n",
        "print(\"Primeiras linhas do novo DataFrame com previsões:\")\n",
        "print(df_new_loaded.head())"
      ],
      "metadata": {
        "colab": {
          "base_uri": "https://localhost:8080/"
        },
        "id": "aTLj-IhMpuyH",
        "outputId": "90de8950-7205-4675-9526-6acb3d788d5c"
      },
      "execution_count": 32,
      "outputs": [
        {
          "output_type": "stream",
          "name": "stdout",
          "text": [
            "Primeiras linhas do novo DataFrame com previsões:\n",
            "   fixed acidity  volatile acidity  citric acid  residual sugar  chlorides  \\\n",
            "0       9.184283          0.275233     0.337980        1.371117   0.010279   \n",
            "1       8.079420          0.454284     0.376549        1.750145   0.060031   \n",
            "2       9.446978          0.468311     0.475780        3.593684   0.090262   \n",
            "3      10.970072          0.385590     0.470222        3.400622   0.092349   \n",
            "4       7.912573          0.500969     0.008243        2.510529   0.067497   \n",
            "\n",
            "   free sulfur dioxide  total sulfur dioxide   density        pH  sulphates  \\\n",
            "0            25.557817             71.374925  0.995707  3.450743   0.722674   \n",
            "1            35.842498             16.130761  0.998693  3.232593   0.593132   \n",
            "2             1.240983             75.080035  0.995362  3.324418   0.664887   \n",
            "3            21.758658             91.070486  0.994024  3.240659   0.877337   \n",
            "4             9.064279             60.072008  0.993742  3.244826   0.692487   \n",
            "\n",
            "     alcohol  quality  predicted_quality  \n",
            "0  11.917310        5                  6  \n",
            "1  11.409358        4                  6  \n",
            "2  10.483804        6                  6  \n",
            "3   9.727778        8                  5  \n",
            "4  11.167099        6                  6  \n"
          ]
        }
      ]
    },
    {
      "cell_type": "code",
      "source": [
        "# Salvar o DataFrame como um arquivo CSV\n",
        "df_new_loaded.to_csv('new_winequality_red_predicted.csv', index=False)"
      ],
      "metadata": {
        "id": "gv1HUBNDpu_F"
      },
      "execution_count": 33,
      "outputs": []
    },
    {
      "cell_type": "code",
      "source": [
        "\n",
        "# Baixar o arquivo CSV\n",
        "files.download('new_winequality_red_predicted.csv')"
      ],
      "metadata": {
        "colab": {
          "base_uri": "https://localhost:8080/",
          "height": 17
        },
        "id": "0STtJiPCp66N",
        "outputId": "d1b379a2-75ee-46b2-f939-ae68fdeadd7a"
      },
      "execution_count": 34,
      "outputs": [
        {
          "output_type": "display_data",
          "data": {
            "text/plain": [
              "<IPython.core.display.Javascript object>"
            ],
            "application/javascript": [
              "\n",
              "    async function download(id, filename, size) {\n",
              "      if (!google.colab.kernel.accessAllowed) {\n",
              "        return;\n",
              "      }\n",
              "      const div = document.createElement('div');\n",
              "      const label = document.createElement('label');\n",
              "      label.textContent = `Downloading \"${filename}\": `;\n",
              "      div.appendChild(label);\n",
              "      const progress = document.createElement('progress');\n",
              "      progress.max = size;\n",
              "      div.appendChild(progress);\n",
              "      document.body.appendChild(div);\n",
              "\n",
              "      const buffers = [];\n",
              "      let downloaded = 0;\n",
              "\n",
              "      const channel = await google.colab.kernel.comms.open(id);\n",
              "      // Send a message to notify the kernel that we're ready.\n",
              "      channel.send({})\n",
              "\n",
              "      for await (const message of channel.messages) {\n",
              "        // Send a message to notify the kernel that we're ready.\n",
              "        channel.send({})\n",
              "        if (message.buffers) {\n",
              "          for (const buffer of message.buffers) {\n",
              "            buffers.push(buffer);\n",
              "            downloaded += buffer.byteLength;\n",
              "            progress.value = downloaded;\n",
              "          }\n",
              "        }\n",
              "      }\n",
              "      const blob = new Blob(buffers, {type: 'application/binary'});\n",
              "      const a = document.createElement('a');\n",
              "      a.href = window.URL.createObjectURL(blob);\n",
              "      a.download = filename;\n",
              "      div.appendChild(a);\n",
              "      a.click();\n",
              "      div.remove();\n",
              "    }\n",
              "  "
            ]
          },
          "metadata": {}
        },
        {
          "output_type": "display_data",
          "data": {
            "text/plain": [
              "<IPython.core.display.Javascript object>"
            ],
            "application/javascript": [
              "download(\"download_62c273bf-68cb-4607-9b5a-507f5780e749\", \"new_winequality_red_predicted.csv\", 21003)"
            ]
          },
          "metadata": {}
        }
      ]
    },
    {
      "cell_type": "code",
      "source": [
        "# Calcular a frequência de cada valor na coluna 'predicted_quality' ordenado por ordem crescente de \"predicted_quality\"\n",
        "quality_counts = df_new_loaded['predicted_quality'].value_counts().sort_index()"
      ],
      "metadata": {
        "id": "MfGchgtop7FJ"
      },
      "execution_count": 35,
      "outputs": []
    },
    {
      "cell_type": "code",
      "source": [
        "# Exibir a frequência\n",
        "print(\"\\nFrequência de cada valor na coluna 'predicted_quality':\")\n",
        "print(quality_counts)"
      ],
      "metadata": {
        "colab": {
          "base_uri": "https://localhost:8080/"
        },
        "id": "Lwt-ZJB_p7NU",
        "outputId": "5a18d00c-14e4-4403-b471-02285a225957"
      },
      "execution_count": 36,
      "outputs": [
        {
          "output_type": "stream",
          "name": "stdout",
          "text": [
            "\n",
            "Frequência de cada valor na coluna 'predicted_quality':\n",
            "predicted_quality\n",
            "5    32\n",
            "6    63\n",
            "7     5\n",
            "Name: count, dtype: int64\n"
          ]
        }
      ]
    },
    {
      "cell_type": "code",
      "source": [
        "# Gerar o histograma para a variável 'predicted_quality'\n",
        "plt.figure(figsize=(10, 6))\n",
        "plt.hist(df_new_loaded['predicted_quality'], bins=8, edgecolor='black', alpha=0.7)\n",
        "plt.title('Distribuição da Qualidade do Vinho após utilização do modelo')\n",
        "plt.xlabel('Qualidade')\n",
        "plt.ylabel('Frequência')\n",
        "plt.grid(axis='y', alpha=0.75)\n",
        "plt.show()"
      ],
      "metadata": {
        "colab": {
          "base_uri": "https://localhost:8080/",
          "height": 565
        },
        "id": "IoznMTU8qCbE",
        "outputId": "d4b88b7d-0a6a-4da4-cd49-3e699395791c"
      },
      "execution_count": 37,
      "outputs": [
        {
          "output_type": "display_data",
          "data": {
            "text/plain": [
              "<Figure size 1000x600 with 1 Axes>"
            ],
            "image/png": "[encoded data removed]"
          },
          "metadata": {}
        }
      ]
    }
  ]
}